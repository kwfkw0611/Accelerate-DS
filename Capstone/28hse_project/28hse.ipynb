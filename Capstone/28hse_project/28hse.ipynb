{
 "cells": [
  {
   "cell_type": "code",
   "execution_count": 2,
   "metadata": {},
   "outputs": [],
   "source": [
    "import numpy as np\n",
    "import pandas as pd\n",
    "import matplotlib.pyplot as plt\n",
    "import seaborn as sns\n",
    "%matplotlib inline\n",
    "\n",
    "import warnings\n",
    "warnings.filterwarnings('ignore')"
   ]
  },
  {
   "cell_type": "code",
   "execution_count": 3,
   "metadata": {},
   "outputs": [],
   "source": [
    "# importing csvs\n",
    "hse1 = pd.read_csv('28housefinal1.csv')\n",
    "hse2 = pd.read_csv('28housefinal2.csv')\n",
    "hse3 = pd.read_csv('28housefinal3.csv')\n",
    "hse170 = pd.read_csv('28housefinal170.csv')"
   ]
  },
  {
   "cell_type": "code",
   "execution_count": 4,
   "metadata": {},
   "outputs": [
    {
     "name": "stdout",
     "output_type": "stream",
     "text": [
      "<class 'pandas.core.frame.DataFrame'>\n",
      "RangeIndex: 349555 entries, 0 to 349554\n",
      "Data columns (total 12 columns):\n",
      "id                349555 non-null int64\n",
      "addr              349555 non-null object\n",
      "catfathername     349555 non-null object\n",
      "catname           349555 non-null object\n",
      "block             205770 non-null object\n",
      "rootid            349555 non-null int64\n",
      "price_value       349555 non-null int64\n",
      "date              349555 non-null object\n",
      "sq_price_value    349555 non-null float64\n",
      "area              349555 non-null object\n",
      "winloss           193592 non-null float64\n",
      "img_url           21 non-null object\n",
      "dtypes: float64(2), int64(3), object(7)\n",
      "memory usage: 32.0+ MB\n",
      "None\n",
      "########################################\n",
      "<class 'pandas.core.frame.DataFrame'>\n",
      "RangeIndex: 349641 entries, 0 to 349640\n",
      "Data columns (total 12 columns):\n",
      "id                349641 non-null int64\n",
      "addr              349641 non-null object\n",
      "catfathername     349641 non-null object\n",
      "catname           349641 non-null object\n",
      "block             236040 non-null object\n",
      "rootid            349641 non-null int64\n",
      "price_value       349641 non-null int64\n",
      "date              349641 non-null object\n",
      "sq_price_value    349641 non-null float64\n",
      "area              349641 non-null object\n",
      "winloss           211321 non-null float64\n",
      "img_url           20 non-null object\n",
      "dtypes: float64(2), int64(3), object(7)\n",
      "memory usage: 32.0+ MB\n",
      "None\n",
      "########################################\n",
      "<class 'pandas.core.frame.DataFrame'>\n",
      "RangeIndex: 327128 entries, 0 to 327127\n",
      "Data columns (total 12 columns):\n",
      "id                327106 non-null float64\n",
      "addr              327106 non-null object\n",
      "catfathername     327106 non-null object\n",
      "catname           327106 non-null object\n",
      "block             302479 non-null object\n",
      "rootid            327106 non-null float64\n",
      "price_value       327106 non-null float64\n",
      "date              327106 non-null object\n",
      "sq_price_value    327106 non-null float64\n",
      "area              327106 non-null object\n",
      "winloss           231073 non-null float64\n",
      "img_url           20 non-null object\n",
      "dtypes: float64(5), object(7)\n",
      "memory usage: 29.9+ MB\n",
      "None\n",
      "########################################\n",
      "<class 'pandas.core.frame.DataFrame'>\n",
      "RangeIndex: 22261 entries, 0 to 22260\n",
      "Data columns (total 12 columns):\n",
      "id                22261 non-null int64\n",
      "addr              22261 non-null object\n",
      "catfathername     22261 non-null object\n",
      "catname           22261 non-null object\n",
      "block             22011 non-null object\n",
      "rootid            22261 non-null int64\n",
      "price_value       22261 non-null int64\n",
      "date              22261 non-null object\n",
      "sq_price_value    22261 non-null float64\n",
      "area              22261 non-null object\n",
      "winloss           16910 non-null float64\n",
      "img_url           20 non-null object\n",
      "dtypes: float64(2), int64(3), object(7)\n",
      "memory usage: 2.0+ MB\n",
      "None\n"
     ]
    }
   ],
   "source": [
    "print(hse1.info())\n",
    "print(\"#\"*40)\n",
    "print(hse2.info())\n",
    "print(\"#\"*40)\n",
    "print(hse3.info())\n",
    "print(\"#\"*40)\n",
    "print(hse170.info())"
   ]
  },
  {
   "cell_type": "code",
   "execution_count": 5,
   "metadata": {},
   "outputs": [
    {
     "data": {
      "text/html": [
       "<div>\n",
       "<style scoped>\n",
       "    .dataframe tbody tr th:only-of-type {\n",
       "        vertical-align: middle;\n",
       "    }\n",
       "\n",
       "    .dataframe tbody tr th {\n",
       "        vertical-align: top;\n",
       "    }\n",
       "\n",
       "    .dataframe thead th {\n",
       "        text-align: right;\n",
       "    }\n",
       "</style>\n",
       "<table border=\"1\" class=\"dataframe\">\n",
       "  <thead>\n",
       "    <tr style=\"text-align: right;\">\n",
       "      <th></th>\n",
       "      <th>id</th>\n",
       "      <th>addr</th>\n",
       "      <th>catfathername</th>\n",
       "      <th>catname</th>\n",
       "      <th>block</th>\n",
       "      <th>rootid</th>\n",
       "      <th>price_value</th>\n",
       "      <th>date</th>\n",
       "      <th>sq_price_value</th>\n",
       "      <th>area</th>\n",
       "      <th>winloss</th>\n",
       "      <th>img_url</th>\n",
       "    </tr>\n",
       "  </thead>\n",
       "  <tbody>\n",
       "    <tr>\n",
       "      <th>0</th>\n",
       "      <td>460263</td>\n",
       "      <td>2/F Room G</td>\n",
       "      <td>Causeway Bay</td>\n",
       "      <td>City Mansion</td>\n",
       "      <td>NaN</td>\n",
       "      <td>1</td>\n",
       "      <td>90000000</td>\n",
       "      <td>23-Jun</td>\n",
       "      <td>0.0</td>\n",
       "      <td>--</td>\n",
       "      <td>11150.0</td>\n",
       "      <td>https://firebasestorage.googleapis.com/v0/b/pr...</td>\n",
       "    </tr>\n",
       "    <tr>\n",
       "      <th>1</th>\n",
       "      <td>355230</td>\n",
       "      <td>4/F Room 10</td>\n",
       "      <td>Fortress Hill Road</td>\n",
       "      <td>Hang Ying House</td>\n",
       "      <td>NaN</td>\n",
       "      <td>1</td>\n",
       "      <td>160000000</td>\n",
       "      <td>18-Aug</td>\n",
       "      <td>0.0</td>\n",
       "      <td>--</td>\n",
       "      <td>7900.0</td>\n",
       "      <td>https://firebasestorage.googleapis.com/v0/b/pr...</td>\n",
       "    </tr>\n",
       "    <tr>\n",
       "      <th>2</th>\n",
       "      <td>497093</td>\n",
       "      <td>1#/F Room B</td>\n",
       "      <td>Wan Chai</td>\n",
       "      <td>Tung Hing Building</td>\n",
       "      <td>NaN</td>\n",
       "      <td>1</td>\n",
       "      <td>6600000</td>\n",
       "      <td>28-Sep</td>\n",
       "      <td>0.0</td>\n",
       "      <td>--</td>\n",
       "      <td>6500.0</td>\n",
       "      <td>https://firebasestorage.googleapis.com/v0/b/pr...</td>\n",
       "    </tr>\n",
       "    <tr>\n",
       "      <th>3</th>\n",
       "      <td>496482</td>\n",
       "      <td>4/F Room 92</td>\n",
       "      <td>Sai Yin Pun</td>\n",
       "      <td>Kong Tak Building</td>\n",
       "      <td>NaN</td>\n",
       "      <td>1</td>\n",
       "      <td>29000000</td>\n",
       "      <td>1-Sep</td>\n",
       "      <td>0.0</td>\n",
       "      <td>--</td>\n",
       "      <td>5700.0</td>\n",
       "      <td>https://firebasestorage.googleapis.com/v0/b/pr...</td>\n",
       "    </tr>\n",
       "    <tr>\n",
       "      <th>4</th>\n",
       "      <td>496480</td>\n",
       "      <td>1/F Room 92</td>\n",
       "      <td>Sai Yin Pun</td>\n",
       "      <td>Kong Tak Building</td>\n",
       "      <td>NaN</td>\n",
       "      <td>1</td>\n",
       "      <td>29000000</td>\n",
       "      <td>1-Sep</td>\n",
       "      <td>0.0</td>\n",
       "      <td>--</td>\n",
       "      <td>5700.0</td>\n",
       "      <td>https://firebasestorage.googleapis.com/v0/b/pr...</td>\n",
       "    </tr>\n",
       "  </tbody>\n",
       "</table>\n",
       "</div>"
      ],
      "text/plain": [
       "       id         addr       catfathername             catname block  rootid  \\\n",
       "0  460263   2/F Room G        Causeway Bay        City Mansion   NaN       1   \n",
       "1  355230  4/F Room 10  Fortress Hill Road     Hang Ying House   NaN       1   \n",
       "2  497093  1#/F Room B            Wan Chai  Tung Hing Building   NaN       1   \n",
       "3  496482  4/F Room 92         Sai Yin Pun   Kong Tak Building   NaN       1   \n",
       "4  496480  1/F Room 92         Sai Yin Pun   Kong Tak Building   NaN       1   \n",
       "\n",
       "   price_value    date  sq_price_value area  winloss  \\\n",
       "0     90000000  23-Jun             0.0   --  11150.0   \n",
       "1    160000000  18-Aug             0.0   --   7900.0   \n",
       "2      6600000  28-Sep             0.0   --   6500.0   \n",
       "3     29000000   1-Sep             0.0   --   5700.0   \n",
       "4     29000000   1-Sep             0.0   --   5700.0   \n",
       "\n",
       "                                             img_url  \n",
       "0  https://firebasestorage.googleapis.com/v0/b/pr...  \n",
       "1  https://firebasestorage.googleapis.com/v0/b/pr...  \n",
       "2  https://firebasestorage.googleapis.com/v0/b/pr...  \n",
       "3  https://firebasestorage.googleapis.com/v0/b/pr...  \n",
       "4  https://firebasestorage.googleapis.com/v0/b/pr...  "
      ]
     },
     "execution_count": 5,
     "metadata": {},
     "output_type": "execute_result"
    }
   ],
   "source": [
    "hse1.head()"
   ]
  },
  {
   "cell_type": "code",
   "execution_count": 6,
   "metadata": {},
   "outputs": [],
   "source": [
    "# combine csv\n",
    "full = pd.concat([hse1, hse2, hse3, hse170], ignore_index=True)"
   ]
  },
  {
   "cell_type": "code",
   "execution_count": 7,
   "metadata": {},
   "outputs": [
    {
     "name": "stdout",
     "output_type": "stream",
     "text": [
      "<class 'pandas.core.frame.DataFrame'>\n",
      "RangeIndex: 1048585 entries, 0 to 1048584\n",
      "Data columns (total 12 columns):\n",
      "id                1048563 non-null float64\n",
      "addr              1048563 non-null object\n",
      "catfathername     1048563 non-null object\n",
      "catname           1048563 non-null object\n",
      "block             766300 non-null object\n",
      "rootid            1048563 non-null float64\n",
      "price_value       1048563 non-null float64\n",
      "date              1048563 non-null object\n",
      "sq_price_value    1048563 non-null float64\n",
      "area              1048563 non-null object\n",
      "winloss           652896 non-null float64\n",
      "img_url           81 non-null object\n",
      "dtypes: float64(5), object(7)\n",
      "memory usage: 96.0+ MB\n"
     ]
    }
   ],
   "source": [
    "full.info()"
   ]
  },
  {
   "cell_type": "code",
   "execution_count": 8,
   "metadata": {},
   "outputs": [
    {
     "data": {
      "text/html": [
       "<div>\n",
       "<style scoped>\n",
       "    .dataframe tbody tr th:only-of-type {\n",
       "        vertical-align: middle;\n",
       "    }\n",
       "\n",
       "    .dataframe tbody tr th {\n",
       "        vertical-align: top;\n",
       "    }\n",
       "\n",
       "    .dataframe thead th {\n",
       "        text-align: right;\n",
       "    }\n",
       "</style>\n",
       "<table border=\"1\" class=\"dataframe\">\n",
       "  <thead>\n",
       "    <tr style=\"text-align: right;\">\n",
       "      <th></th>\n",
       "      <th>id</th>\n",
       "      <th>addr</th>\n",
       "      <th>catfathername</th>\n",
       "      <th>catname</th>\n",
       "      <th>block</th>\n",
       "      <th>rootid</th>\n",
       "      <th>price_value</th>\n",
       "      <th>date</th>\n",
       "      <th>sq_price_value</th>\n",
       "      <th>area</th>\n",
       "      <th>winloss</th>\n",
       "      <th>img_url</th>\n",
       "    </tr>\n",
       "  </thead>\n",
       "  <tbody>\n",
       "    <tr>\n",
       "      <th>1048580</th>\n",
       "      <td>764402.0</td>\n",
       "      <td>BLOCK 1 2#/F Room E</td>\n",
       "      <td>Tung Chung</td>\n",
       "      <td>Seaview Crescent</td>\n",
       "      <td>BLOCK 1</td>\n",
       "      <td>170.0</td>\n",
       "      <td>2065000.0</td>\n",
       "      <td>13/7/2009</td>\n",
       "      <td>3005.82</td>\n",
       "      <td>687ft&lt;sup&gt;2&lt;/sup&gt;</td>\n",
       "      <td>NaN</td>\n",
       "      <td>NaN</td>\n",
       "    </tr>\n",
       "    <tr>\n",
       "      <th>1048581</th>\n",
       "      <td>734748.0</td>\n",
       "      <td>BLOCK 25 2#/F Room A</td>\n",
       "      <td>Ma Wan</td>\n",
       "      <td>Park Island</td>\n",
       "      <td>BLOCK 25</td>\n",
       "      <td>170.0</td>\n",
       "      <td>3320000.0</td>\n",
       "      <td>13/7/2009</td>\n",
       "      <td>4150.00</td>\n",
       "      <td>800ft&lt;sup&gt;2&lt;/sup&gt;</td>\n",
       "      <td>NaN</td>\n",
       "      <td>NaN</td>\n",
       "    </tr>\n",
       "    <tr>\n",
       "      <th>1048582</th>\n",
       "      <td>734641.0</td>\n",
       "      <td>(LOW-RISE) 7 5/F Room A</td>\n",
       "      <td>Tung Chung</td>\n",
       "      <td>Coastal Skyline</td>\n",
       "      <td>(LOW-RISE) 7</td>\n",
       "      <td>170.0</td>\n",
       "      <td>4716750.0</td>\n",
       "      <td>10/7/2009</td>\n",
       "      <td>4808.10</td>\n",
       "      <td>981ft&lt;sup&gt;2&lt;/sup&gt;</td>\n",
       "      <td>NaN</td>\n",
       "      <td>NaN</td>\n",
       "    </tr>\n",
       "    <tr>\n",
       "      <th>1048583</th>\n",
       "      <td>764362.0</td>\n",
       "      <td>BLOCK 15 3/F Room G</td>\n",
       "      <td>Ma Wan</td>\n",
       "      <td>Park Island</td>\n",
       "      <td>BLOCK 15</td>\n",
       "      <td>170.0</td>\n",
       "      <td>1900000.0</td>\n",
       "      <td>10/7/2009</td>\n",
       "      <td>2790.01</td>\n",
       "      <td>681ft&lt;sup&gt;2&lt;/sup&gt;</td>\n",
       "      <td>NaN</td>\n",
       "      <td>NaN</td>\n",
       "    </tr>\n",
       "    <tr>\n",
       "      <th>1048584</th>\n",
       "      <td>1156019.0</td>\n",
       "      <td>NO.55 CAPERIDGE DRIVE 3/F Room B</td>\n",
       "      <td>Discovery Bay</td>\n",
       "      <td>Discovery Bay</td>\n",
       "      <td>NO.55 CAPERIDGE DRIVE</td>\n",
       "      <td>170.0</td>\n",
       "      <td>5900000.0</td>\n",
       "      <td>10/7/2009</td>\n",
       "      <td>0.00</td>\n",
       "      <td>--</td>\n",
       "      <td>NaN</td>\n",
       "      <td>NaN</td>\n",
       "    </tr>\n",
       "  </tbody>\n",
       "</table>\n",
       "</div>"
      ],
      "text/plain": [
       "                id                              addr  catfathername  \\\n",
       "1048580   764402.0               BLOCK 1 2#/F Room E     Tung Chung   \n",
       "1048581   734748.0              BLOCK 25 2#/F Room A         Ma Wan   \n",
       "1048582   734641.0           (LOW-RISE) 7 5/F Room A     Tung Chung   \n",
       "1048583   764362.0               BLOCK 15 3/F Room G         Ma Wan   \n",
       "1048584  1156019.0  NO.55 CAPERIDGE DRIVE 3/F Room B  Discovery Bay   \n",
       "\n",
       "                  catname                  block  rootid  price_value  \\\n",
       "1048580  Seaview Crescent                BLOCK 1   170.0    2065000.0   \n",
       "1048581       Park Island               BLOCK 25   170.0    3320000.0   \n",
       "1048582   Coastal Skyline           (LOW-RISE) 7   170.0    4716750.0   \n",
       "1048583       Park Island               BLOCK 15   170.0    1900000.0   \n",
       "1048584     Discovery Bay  NO.55 CAPERIDGE DRIVE   170.0    5900000.0   \n",
       "\n",
       "              date  sq_price_value               area  winloss img_url  \n",
       "1048580  13/7/2009         3005.82  687ft<sup>2</sup>      NaN     NaN  \n",
       "1048581  13/7/2009         4150.00  800ft<sup>2</sup>      NaN     NaN  \n",
       "1048582  10/7/2009         4808.10  981ft<sup>2</sup>      NaN     NaN  \n",
       "1048583  10/7/2009         2790.01  681ft<sup>2</sup>      NaN     NaN  \n",
       "1048584  10/7/2009            0.00                 --      NaN     NaN  "
      ]
     },
     "execution_count": 8,
     "metadata": {},
     "output_type": "execute_result"
    }
   ],
   "source": [
    "full.tail()"
   ]
  },
  {
   "cell_type": "code",
   "execution_count": 9,
   "metadata": {},
   "outputs": [
    {
     "data": {
      "text/html": [
       "<div>\n",
       "<style scoped>\n",
       "    .dataframe tbody tr th:only-of-type {\n",
       "        vertical-align: middle;\n",
       "    }\n",
       "\n",
       "    .dataframe tbody tr th {\n",
       "        vertical-align: top;\n",
       "    }\n",
       "\n",
       "    .dataframe thead th {\n",
       "        text-align: right;\n",
       "    }\n",
       "</style>\n",
       "<table border=\"1\" class=\"dataframe\">\n",
       "  <thead>\n",
       "    <tr style=\"text-align: right;\">\n",
       "      <th></th>\n",
       "      <th>missing</th>\n",
       "      <th>pct</th>\n",
       "    </tr>\n",
       "  </thead>\n",
       "  <tbody>\n",
       "    <tr>\n",
       "      <th>img_url</th>\n",
       "      <td>1048504</td>\n",
       "      <td>100.0</td>\n",
       "    </tr>\n",
       "    <tr>\n",
       "      <th>winloss</th>\n",
       "      <td>395689</td>\n",
       "      <td>38.0</td>\n",
       "    </tr>\n",
       "    <tr>\n",
       "      <th>block</th>\n",
       "      <td>282285</td>\n",
       "      <td>27.0</td>\n",
       "    </tr>\n",
       "    <tr>\n",
       "      <th>area</th>\n",
       "      <td>22</td>\n",
       "      <td>0.0</td>\n",
       "    </tr>\n",
       "    <tr>\n",
       "      <th>sq_price_value</th>\n",
       "      <td>22</td>\n",
       "      <td>0.0</td>\n",
       "    </tr>\n",
       "    <tr>\n",
       "      <th>date</th>\n",
       "      <td>22</td>\n",
       "      <td>0.0</td>\n",
       "    </tr>\n",
       "    <tr>\n",
       "      <th>price_value</th>\n",
       "      <td>22</td>\n",
       "      <td>0.0</td>\n",
       "    </tr>\n",
       "    <tr>\n",
       "      <th>rootid</th>\n",
       "      <td>22</td>\n",
       "      <td>0.0</td>\n",
       "    </tr>\n",
       "    <tr>\n",
       "      <th>catname</th>\n",
       "      <td>22</td>\n",
       "      <td>0.0</td>\n",
       "    </tr>\n",
       "    <tr>\n",
       "      <th>catfathername</th>\n",
       "      <td>22</td>\n",
       "      <td>0.0</td>\n",
       "    </tr>\n",
       "    <tr>\n",
       "      <th>addr</th>\n",
       "      <td>22</td>\n",
       "      <td>0.0</td>\n",
       "    </tr>\n",
       "    <tr>\n",
       "      <th>id</th>\n",
       "      <td>22</td>\n",
       "      <td>0.0</td>\n",
       "    </tr>\n",
       "  </tbody>\n",
       "</table>\n",
       "</div>"
      ],
      "text/plain": [
       "                missing    pct\n",
       "img_url         1048504  100.0\n",
       "winloss          395689   38.0\n",
       "block            282285   27.0\n",
       "area                 22    0.0\n",
       "sq_price_value       22    0.0\n",
       "date                 22    0.0\n",
       "price_value          22    0.0\n",
       "rootid               22    0.0\n",
       "catname              22    0.0\n",
       "catfathername        22    0.0\n",
       "addr                 22    0.0\n",
       "id                   22    0.0"
      ]
     },
     "execution_count": 9,
     "metadata": {},
     "output_type": "execute_result"
    }
   ],
   "source": [
    "# missing values\n",
    "missing = full.isnull().sum().sort_values(ascending=False)\n",
    "pct_missing = (full.isnull().sum()/full.isnull().count()).sort_values(ascending=False) * 100\n",
    "df_missing = pd.concat([missing, pct_missing], axis=1, keys=['missing', 'pct'])\n",
    "round(df_missing)"
   ]
  },
  {
   "cell_type": "code",
   "execution_count": 10,
   "metadata": {},
   "outputs": [],
   "source": [
    "# cleaning data\n",
    "full = full.drop(['img_url', 'date', 'rootid'], axis=1)\n",
    "full['area'] = full['area'].replace('--','U')\n",
    "full['area'] = full['area'].fillna('U')\n",
    "full['area'] = full['area'].apply(lambda x: x.split('<')[0].split('ft')[0])\n",
    "full['area'] = full['area'].replace('U', np.NaN)\n",
    "full['area'] = full['area'].astype('float')"
   ]
  },
  {
   "cell_type": "code",
   "execution_count": 11,
   "metadata": {},
   "outputs": [],
   "source": [
    "# replace missing values\n",
    "location_group = full.groupby(['catfathername', 'catname'])\n",
    "full['area'] = location_group['area'].apply(lambda x: x.fillna(x.median()))\n",
    "full['area'] = full.groupby('catfathername')['area'].apply(lambda x:x.fillna(x.median()))\n",
    "kowloon_bay_area = full[full['catfathername'] =='Kowloon Bay']['area'].median()\n",
    "full['area'] = full['area'].fillna(kowloon_bay_area)"
   ]
  },
  {
   "cell_type": "code",
   "execution_count": 12,
   "metadata": {},
   "outputs": [
    {
     "data": {
      "text/plain": [
       "id                    22\n",
       "addr                  22\n",
       "catfathername         22\n",
       "catname               22\n",
       "block             282285\n",
       "price_value           22\n",
       "sq_price_value        22\n",
       "area                   0\n",
       "winloss           395689\n",
       "dtype: int64"
      ]
     },
     "execution_count": 12,
     "metadata": {},
     "output_type": "execute_result"
    }
   ],
   "source": [
    "full.isnull().sum()"
   ]
  },
  {
   "cell_type": "code",
   "execution_count": 13,
   "metadata": {},
   "outputs": [],
   "source": [
    "# drop unecessary columns\n",
    "full.drop(['block', 'winloss'], axis=1, inplace=True)"
   ]
  },
  {
   "cell_type": "code",
   "execution_count": 14,
   "metadata": {},
   "outputs": [],
   "source": [
    "full['price_millions'] = full['price_value'] / 1000000\n",
    "full['sq_price_value'] = full['price_value'] / full['area']"
   ]
  },
  {
   "cell_type": "code",
   "execution_count": 15,
   "metadata": {},
   "outputs": [],
   "source": [
    "area_list = full['catfathername'].unique()"
   ]
  },
  {
   "cell_type": "code",
   "execution_count": 16,
   "metadata": {},
   "outputs": [],
   "source": [
    "full = full.dropna()"
   ]
  },
  {
   "cell_type": "code",
   "execution_count": 43,
   "metadata": {},
   "outputs": [
    {
     "data": {
      "text/plain": [
       "Text(0.5,1,'price_millions correlation')"
      ]
     },
     "execution_count": 43,
     "metadata": {},
     "output_type": "execute_result"
    },
    {
     "data": {
      "image/png": "[encoded data removed]",
      "text/plain": [
       "<Figure size 1080x720 with 2 Axes>"
      ]
     },
     "metadata": {},
     "output_type": "display_data"
    }
   ],
   "source": [
    "corr = full.corr()\n",
    "ix = corr.abs().sort_values(by='price_value', ascending=False).index\n",
    "df_sort = full.loc[:, ix]\n",
    "#top20 = df_sort.iloc[:, :20]\n",
    "df_corr = df_sort.corr()\n",
    "mask = np.zeros_like(df_corr)\n",
    "mask[np.triu_indices_from(mask)] = True\n",
    "plt.figure(figsize=(15,10))\n",
    "sns.heatmap(df_corr, mask=mask, annot=True)\n",
    "plt.title('price_millions correlation')"
   ]
  },
  {
   "cell_type": "code",
   "execution_count": 18,
   "metadata": {},
   "outputs": [
    {
     "data": {
      "text/plain": [
       "<matplotlib.axes._subplots.AxesSubplot at 0x1172ce240>"
      ]
     },
     "execution_count": 18,
     "metadata": {},
     "output_type": "execute_result"
    },
    {
     "data": {
      "image/png": "[encoded data removed]",
      "text/plain": [
       "<Figure size 432x288 with 1 Axes>"
      ]
     },
     "metadata": {},
     "output_type": "display_data"
    }
   ],
   "source": [
    "sns.distplot(np.log(full['price_value']),50)"
   ]
  },
  {
   "cell_type": "code",
   "execution_count": 19,
   "metadata": {},
   "outputs": [
    {
     "data": {
      "text/plain": [
       "<matplotlib.collections.PathCollection at 0x119358f98>"
      ]
     },
     "execution_count": 19,
     "metadata": {},
     "output_type": "execute_result"
    },
    {
     "data": {
      "image/png": "[encoded data removed]",
      "text/plain": [
       "<Figure size 432x288 with 1 Axes>"
      ]
     },
     "metadata": {},
     "output_type": "display_data"
    }
   ],
   "source": [
    "plt.scatter(x='price_value', y='area', data=full)"
   ]
  },
  {
   "cell_type": "code",
   "execution_count": 20,
   "metadata": {},
   "outputs": [
    {
     "data": {
      "text/plain": [
       "<matplotlib.collections.PathCollection at 0x1276d5e10>"
      ]
     },
     "execution_count": 20,
     "metadata": {},
     "output_type": "execute_result"
    },
    {
     "data": {
      "image/png": "[encoded data removed]",
      "text/plain": [
       "<Figure size 432x288 with 1 Axes>"
      ]
     },
     "metadata": {},
     "output_type": "display_data"
    }
   ],
   "source": [
    "plt.scatter(x='price_value', y='sq_price_value', data=full)"
   ]
  },
  {
   "cell_type": "code",
   "execution_count": 21,
   "metadata": {},
   "outputs": [
    {
     "data": {
      "text/plain": [
       "<matplotlib.collections.PathCollection at 0x127618ac8>"
      ]
     },
     "execution_count": 21,
     "metadata": {},
     "output_type": "execute_result"
    },
    {
     "data": {
      "image/png": "[encoded data removed]",
      "text/plain": [
       "<Figure size 432x288 with 1 Axes>"
      ]
     },
     "metadata": {},
     "output_type": "display_data"
    }
   ],
   "source": [
    "plt.scatter(x='sq_price_value', y='area', data=full)"
   ]
  },
  {
   "cell_type": "code",
   "execution_count": 22,
   "metadata": {},
   "outputs": [],
   "source": [
    "# normalize data\n",
    "full[['price_value', 'sq_price_value', 'area']] = np.log(full[['price_value', 'sq_price_value', 'area']])"
   ]
  },
  {
   "cell_type": "code",
   "execution_count": 23,
   "metadata": {},
   "outputs": [
    {
     "data": {
      "text/html": [
       "<div>\n",
       "<style scoped>\n",
       "    .dataframe tbody tr th:only-of-type {\n",
       "        vertical-align: middle;\n",
       "    }\n",
       "\n",
       "    .dataframe tbody tr th {\n",
       "        vertical-align: top;\n",
       "    }\n",
       "\n",
       "    .dataframe thead th {\n",
       "        text-align: right;\n",
       "    }\n",
       "</style>\n",
       "<table border=\"1\" class=\"dataframe\">\n",
       "  <thead>\n",
       "    <tr style=\"text-align: right;\">\n",
       "      <th></th>\n",
       "      <th>id</th>\n",
       "      <th>addr</th>\n",
       "      <th>catfathername</th>\n",
       "      <th>catname</th>\n",
       "      <th>price_value</th>\n",
       "      <th>sq_price_value</th>\n",
       "      <th>area</th>\n",
       "      <th>price_millions</th>\n",
       "    </tr>\n",
       "  </thead>\n",
       "  <tbody>\n",
       "    <tr>\n",
       "      <th>0</th>\n",
       "      <td>460263.0</td>\n",
       "      <td>2/F Room G</td>\n",
       "      <td>Causeway Bay</td>\n",
       "      <td>City Mansion</td>\n",
       "      <td>18.315320</td>\n",
       "      <td>12.100712</td>\n",
       "      <td>6.214608</td>\n",
       "      <td>90.0</td>\n",
       "    </tr>\n",
       "    <tr>\n",
       "      <th>1</th>\n",
       "      <td>355230.0</td>\n",
       "      <td>4/F Room 10</td>\n",
       "      <td>Fortress Hill Road</td>\n",
       "      <td>Hang Ying House</td>\n",
       "      <td>18.890684</td>\n",
       "      <td>12.480509</td>\n",
       "      <td>6.410175</td>\n",
       "      <td>160.0</td>\n",
       "    </tr>\n",
       "    <tr>\n",
       "      <th>2</th>\n",
       "      <td>497093.0</td>\n",
       "      <td>1#/F Room B</td>\n",
       "      <td>Wan Chai</td>\n",
       "      <td>Tung Hing Building</td>\n",
       "      <td>15.702580</td>\n",
       "      <td>9.407314</td>\n",
       "      <td>6.295266</td>\n",
       "      <td>6.6</td>\n",
       "    </tr>\n",
       "    <tr>\n",
       "      <th>3</th>\n",
       "      <td>496482.0</td>\n",
       "      <td>4/F Room 92</td>\n",
       "      <td>Sai Yin Pun</td>\n",
       "      <td>Kong Tak Building</td>\n",
       "      <td>17.182806</td>\n",
       "      <td>11.009020</td>\n",
       "      <td>6.173786</td>\n",
       "      <td>29.0</td>\n",
       "    </tr>\n",
       "    <tr>\n",
       "      <th>4</th>\n",
       "      <td>496480.0</td>\n",
       "      <td>1/F Room 92</td>\n",
       "      <td>Sai Yin Pun</td>\n",
       "      <td>Kong Tak Building</td>\n",
       "      <td>17.182806</td>\n",
       "      <td>11.009020</td>\n",
       "      <td>6.173786</td>\n",
       "      <td>29.0</td>\n",
       "    </tr>\n",
       "  </tbody>\n",
       "</table>\n",
       "</div>"
      ],
      "text/plain": [
       "         id         addr       catfathername             catname  price_value  \\\n",
       "0  460263.0   2/F Room G        Causeway Bay        City Mansion    18.315320   \n",
       "1  355230.0  4/F Room 10  Fortress Hill Road     Hang Ying House    18.890684   \n",
       "2  497093.0  1#/F Room B            Wan Chai  Tung Hing Building    15.702580   \n",
       "3  496482.0  4/F Room 92         Sai Yin Pun   Kong Tak Building    17.182806   \n",
       "4  496480.0  1/F Room 92         Sai Yin Pun   Kong Tak Building    17.182806   \n",
       "\n",
       "   sq_price_value      area  price_millions  \n",
       "0       12.100712  6.214608            90.0  \n",
       "1       12.480509  6.410175           160.0  \n",
       "2        9.407314  6.295266             6.6  \n",
       "3       11.009020  6.173786            29.0  \n",
       "4       11.009020  6.173786            29.0  "
      ]
     },
     "execution_count": 23,
     "metadata": {},
     "output_type": "execute_result"
    }
   ],
   "source": [
    "full.head()"
   ]
  },
  {
   "cell_type": "code",
   "execution_count": 24,
   "metadata": {},
   "outputs": [],
   "source": [
    "x = full.drop(['id', 'price_value','addr'], axis = 1)\n",
    "y = full['price_value']"
   ]
  },
  {
   "cell_type": "code",
   "execution_count": 25,
   "metadata": {},
   "outputs": [],
   "source": [
    "from sklearn.model_selection import train_test_split"
   ]
  },
  {
   "cell_type": "code",
   "execution_count": 26,
   "metadata": {},
   "outputs": [],
   "source": [
    "x_train, x_test, y_train, y_test = train_test_split(x, y, test_size = 0.20, random_state = 123 )"
   ]
  },
  {
   "cell_type": "code",
   "execution_count": 27,
   "metadata": {},
   "outputs": [],
   "source": [
    "xtrain = x_train[['sq_price_value', 'area']]"
   ]
  },
  {
   "cell_type": "code",
   "execution_count": 28,
   "metadata": {},
   "outputs": [],
   "source": [
    "from sklearn.linear_model import LinearRegression\n",
    "from sklearn.metrics import mean_squared_error"
   ]
  },
  {
   "cell_type": "code",
   "execution_count": 29,
   "metadata": {},
   "outputs": [],
   "source": [
    "linreg = LinearRegression()"
   ]
  },
  {
   "cell_type": "code",
   "execution_count": 30,
   "metadata": {},
   "outputs": [
    {
     "data": {
      "text/plain": [
       "LinearRegression(copy_X=True, fit_intercept=True, n_jobs=1, normalize=False)"
      ]
     },
     "execution_count": 30,
     "metadata": {},
     "output_type": "execute_result"
    }
   ],
   "source": [
    "linreg.fit(xtrain, y_train)"
   ]
  },
  {
   "cell_type": "code",
   "execution_count": 31,
   "metadata": {},
   "outputs": [
    {
     "data": {
      "text/plain": [
       "array([14.46783574, 13.81350856, 15.22160755, ..., 14.24077829,\n",
       "       15.60727003, 15.68731273])"
      ]
     },
     "execution_count": 31,
     "metadata": {},
     "output_type": "execute_result"
    }
   ],
   "source": [
    "linreg.predict(xtrain)"
   ]
  },
  {
   "cell_type": "code",
   "execution_count": 32,
   "metadata": {},
   "outputs": [
    {
     "data": {
      "text/plain": [
       "<matplotlib.collections.PathCollection at 0x11b21e8d0>"
      ]
     },
     "execution_count": 32,
     "metadata": {},
     "output_type": "execute_result"
    },
    {
     "data": {
      "image/png": "[encoded data removed]",
      "text/plain": [
       "<Figure size 432x288 with 1 Axes>"
      ]
     },
     "metadata": {},
     "output_type": "display_data"
    }
   ],
   "source": [
    "plt.scatter(y_train, linreg.predict(xtrain))"
   ]
  },
  {
   "cell_type": "code",
   "execution_count": 36,
   "metadata": {},
   "outputs": [],
   "source": [
    "xtest = x_test[['sq_price_value', 'area']]"
   ]
  },
  {
   "cell_type": "code",
   "execution_count": 37,
   "metadata": {},
   "outputs": [],
   "source": [
    "# linear regression predictin\n",
    "y_pred = linreg.predict(xtest)"
   ]
  },
  {
   "cell_type": "code",
   "execution_count": 39,
   "metadata": {},
   "outputs": [],
   "source": [
    "# error \n",
    "mse = mean_squared_error(y_test, linreg.predict(xtest))"
   ]
  },
  {
   "cell_type": "code",
   "execution_count": 40,
   "metadata": {},
   "outputs": [
    {
     "name": "stdout",
     "output_type": "stream",
     "text": [
      "1.1572123931206366e-14\n"
     ]
    }
   ],
   "source": [
    "print(np.sqrt(mse))"
   ]
  },
  {
   "cell_type": "code",
   "execution_count": 41,
   "metadata": {},
   "outputs": [
    {
     "data": {
      "text/plain": [
       "<matplotlib.collections.PathCollection at 0x14c64e2b0>"
      ]
     },
     "execution_count": 41,
     "metadata": {},
     "output_type": "execute_result"
    },
    {
     "data": {
      "image/png": "[encoded data removed]",
      "text/plain": [
       "<Figure size 432x288 with 1 Axes>"
      ]
     },
     "metadata": {},
     "output_type": "display_data"
    }
   ],
   "source": [
    "plt.scatter(y_test, y_pred)"
   ]
  },
  {
   "cell_type": "code",
   "execution_count": 42,
   "metadata": {},
   "outputs": [
    {
     "data": {
      "text/plain": [
       "97"
      ]
     },
     "execution_count": 42,
     "metadata": {},
     "output_type": "execute_result"
    }
   ],
   "source": [
    "x_test['catfathername'].nunique()"
   ]
  },
  {
   "cell_type": "code",
   "execution_count": 44,
   "metadata": {},
   "outputs": [],
   "source": [
    "x_test['prediction_price'] = np.exp(y_pred)"
   ]
  },
  {
   "cell_type": "code",
   "execution_count": 47,
   "metadata": {},
   "outputs": [],
   "source": [
    "x_test['predict_millions'] = x_test['prediction_price'] / 1000000"
   ]
  },
  {
   "cell_type": "code",
   "execution_count": 50,
   "metadata": {},
   "outputs": [],
   "source": [
    "location_prediction = x_test.groupby(['catfathername', 'catname'])['predict_millions'].mean()"
   ]
  },
  {
   "cell_type": "code",
   "execution_count": 89,
   "metadata": {},
   "outputs": [],
   "source": [
    "# to csv\n",
    "prediction_csv = location_prediction.to_frame()\n",
    "prediction_csv.to_csv('28hse_prediction.csv',index=True)"
   ]
  },
  {
   "cell_type": "code",
   "execution_count": 62,
   "metadata": {},
   "outputs": [],
   "source": [
    "# finding difference between index\n",
    "x_test_cat = x_test.set_index('catfathername')\n",
    "full_cat = full.set_index('catfathername')\n",
    "x_test_idx = x_test_cat[~x_test_cat.index.duplicated(keep='first')]\n",
    "full_cat_idx = full_cat[~full_cat.index.duplicated(keep='first')]\n",
    "full_cat_idx.index.difference(x_test_idx.index)"
   ]
  },
  {
   "cell_type": "code",
   "execution_count": 84,
   "metadata": {},
   "outputs": [
    {
     "data": {
      "text/plain": [
       "Index(['Clear Water Bay', 'Villa'], dtype='object', name='catfathername')"
      ]
     },
     "execution_count": 84,
     "metadata": {},
     "output_type": "execute_result"
    }
   ],
   "source": [
    "full_cat_idx.index.difference(x_test_idx.index)"
   ]
  },
  {
   "cell_type": "markdown",
   "metadata": {},
   "source": [
    "- no prediction for Clear Water Bay and Villa"
   ]
  },
  {
   "cell_type": "code",
   "execution_count": 90,
   "metadata": {},
   "outputs": [
    {
     "data": {
      "text/html": [
       "<div>\n",
       "<style scoped>\n",
       "    .dataframe tbody tr th:only-of-type {\n",
       "        vertical-align: middle;\n",
       "    }\n",
       "\n",
       "    .dataframe tbody tr th {\n",
       "        vertical-align: top;\n",
       "    }\n",
       "\n",
       "    .dataframe thead th {\n",
       "        text-align: right;\n",
       "    }\n",
       "</style>\n",
       "<table border=\"1\" class=\"dataframe\">\n",
       "  <thead>\n",
       "    <tr style=\"text-align: right;\">\n",
       "      <th></th>\n",
       "      <th>catfathername</th>\n",
       "      <th>catname</th>\n",
       "      <th>predict_millions</th>\n",
       "    </tr>\n",
       "  </thead>\n",
       "  <tbody>\n",
       "    <tr>\n",
       "      <th>0</th>\n",
       "      <td>Aberdeen</td>\n",
       "      <td>Abba House</td>\n",
       "      <td>2.087042</td>\n",
       "    </tr>\n",
       "    <tr>\n",
       "      <th>1</th>\n",
       "      <td>Aberdeen</td>\n",
       "      <td>Aberdeen Centre</td>\n",
       "      <td>2.466048</td>\n",
       "    </tr>\n",
       "    <tr>\n",
       "      <th>2</th>\n",
       "      <td>Aberdeen</td>\n",
       "      <td>Aberdeen Harbour Mansion</td>\n",
       "      <td>1.596844</td>\n",
       "    </tr>\n",
       "    <tr>\n",
       "      <th>3</th>\n",
       "      <td>Aberdeen</td>\n",
       "      <td>Ap Lei Chau Centre</td>\n",
       "      <td>1.535851</td>\n",
       "    </tr>\n",
       "    <tr>\n",
       "      <th>4</th>\n",
       "      <td>Aberdeen</td>\n",
       "      <td>Bayshore Apartments</td>\n",
       "      <td>3.528747</td>\n",
       "    </tr>\n",
       "    <tr>\n",
       "      <th>5</th>\n",
       "      <td>Aberdeen</td>\n",
       "      <td>BroadView Court</td>\n",
       "      <td>1.745402</td>\n",
       "    </tr>\n",
       "    <tr>\n",
       "      <th>6</th>\n",
       "      <td>Aberdeen</td>\n",
       "      <td>Coble Court</td>\n",
       "      <td>1.711673</td>\n",
       "    </tr>\n",
       "    <tr>\n",
       "      <th>7</th>\n",
       "      <td>Aberdeen</td>\n",
       "      <td>Comfort Centre</td>\n",
       "      <td>2.211083</td>\n",
       "    </tr>\n",
       "    <tr>\n",
       "      <th>8</th>\n",
       "      <td>Aberdeen</td>\n",
       "      <td>Command Tower</td>\n",
       "      <td>1.468167</td>\n",
       "    </tr>\n",
       "    <tr>\n",
       "      <th>9</th>\n",
       "      <td>Aberdeen</td>\n",
       "      <td>Ever Secure Mansion</td>\n",
       "      <td>1.400780</td>\n",
       "    </tr>\n",
       "    <tr>\n",
       "      <th>10</th>\n",
       "      <td>Aberdeen</td>\n",
       "      <td>Full Jade Mansion</td>\n",
       "      <td>1.669037</td>\n",
       "    </tr>\n",
       "    <tr>\n",
       "      <th>11</th>\n",
       "      <td>Aberdeen</td>\n",
       "      <td>Harrow Mansion</td>\n",
       "      <td>6.417273</td>\n",
       "    </tr>\n",
       "    <tr>\n",
       "      <th>12</th>\n",
       "      <td>Aberdeen</td>\n",
       "      <td>Hip Sing Mansion</td>\n",
       "      <td>1.621167</td>\n",
       "    </tr>\n",
       "    <tr>\n",
       "      <th>13</th>\n",
       "      <td>Aberdeen</td>\n",
       "      <td>Hoi Fai Mansion</td>\n",
       "      <td>1.709500</td>\n",
       "    </tr>\n",
       "    <tr>\n",
       "      <th>14</th>\n",
       "      <td>Aberdeen</td>\n",
       "      <td>Hung Fuk Court</td>\n",
       "      <td>1.466349</td>\n",
       "    </tr>\n",
       "    <tr>\n",
       "      <th>15</th>\n",
       "      <td>Aberdeen</td>\n",
       "      <td>Jadewater</td>\n",
       "      <td>5.937424</td>\n",
       "    </tr>\n",
       "    <tr>\n",
       "      <th>16</th>\n",
       "      <td>Aberdeen</td>\n",
       "      <td>Jing Hui Garden</td>\n",
       "      <td>2.330321</td>\n",
       "    </tr>\n",
       "    <tr>\n",
       "      <th>17</th>\n",
       "      <td>Aberdeen</td>\n",
       "      <td>Jumbo Building</td>\n",
       "      <td>2.355660</td>\n",
       "    </tr>\n",
       "    <tr>\n",
       "      <th>18</th>\n",
       "      <td>Aberdeen</td>\n",
       "      <td>Jumbo Court</td>\n",
       "      <td>2.589944</td>\n",
       "    </tr>\n",
       "    <tr>\n",
       "      <th>19</th>\n",
       "      <td>Aberdeen</td>\n",
       "      <td>Ka Fook Court</td>\n",
       "      <td>3.380833</td>\n",
       "    </tr>\n",
       "    <tr>\n",
       "      <th>20</th>\n",
       "      <td>Aberdeen</td>\n",
       "      <td>Ka Lung Court</td>\n",
       "      <td>2.107463</td>\n",
       "    </tr>\n",
       "    <tr>\n",
       "      <th>21</th>\n",
       "      <td>Aberdeen</td>\n",
       "      <td>Ka Ning Mansion</td>\n",
       "      <td>2.443500</td>\n",
       "    </tr>\n",
       "    <tr>\n",
       "      <th>22</th>\n",
       "      <td>Aberdeen</td>\n",
       "      <td>Ka Wo Building</td>\n",
       "      <td>1.666474</td>\n",
       "    </tr>\n",
       "    <tr>\n",
       "      <th>23</th>\n",
       "      <td>Aberdeen</td>\n",
       "      <td>Kam Fung Building</td>\n",
       "      <td>2.506750</td>\n",
       "    </tr>\n",
       "    <tr>\n",
       "      <th>24</th>\n",
       "      <td>Aberdeen</td>\n",
       "      <td>Kin Fai Building</td>\n",
       "      <td>1.502840</td>\n",
       "    </tr>\n",
       "    <tr>\n",
       "      <th>25</th>\n",
       "      <td>Aberdeen</td>\n",
       "      <td>Kingston Mansion</td>\n",
       "      <td>1.946921</td>\n",
       "    </tr>\n",
       "    <tr>\n",
       "      <th>26</th>\n",
       "      <td>Aberdeen</td>\n",
       "      <td>Kong Kai Building</td>\n",
       "      <td>1.941643</td>\n",
       "    </tr>\n",
       "    <tr>\n",
       "      <th>27</th>\n",
       "      <td>Aberdeen</td>\n",
       "      <td>Man King Building</td>\n",
       "      <td>1.880615</td>\n",
       "    </tr>\n",
       "    <tr>\n",
       "      <th>28</th>\n",
       "      <td>Aberdeen</td>\n",
       "      <td>Man Wah Court</td>\n",
       "      <td>0.978000</td>\n",
       "    </tr>\n",
       "    <tr>\n",
       "      <th>29</th>\n",
       "      <td>Aberdeen</td>\n",
       "      <td>May Court</td>\n",
       "      <td>1.260000</td>\n",
       "    </tr>\n",
       "    <tr>\n",
       "      <th>...</th>\n",
       "      <td>...</td>\n",
       "      <td>...</td>\n",
       "      <td>...</td>\n",
       "    </tr>\n",
       "    <tr>\n",
       "      <th>4415</th>\n",
       "      <td>Yuen Long</td>\n",
       "      <td>Villa Camellia</td>\n",
       "      <td>9.600000</td>\n",
       "    </tr>\n",
       "    <tr>\n",
       "      <th>4416</th>\n",
       "      <td>Yuen Long</td>\n",
       "      <td>Villa Premiere</td>\n",
       "      <td>3.739263</td>\n",
       "    </tr>\n",
       "    <tr>\n",
       "      <th>4417</th>\n",
       "      <td>Yuen Long</td>\n",
       "      <td>Villa Sunshine</td>\n",
       "      <td>3.852000</td>\n",
       "    </tr>\n",
       "    <tr>\n",
       "      <th>4418</th>\n",
       "      <td>Yuen Long</td>\n",
       "      <td>Wah Kin Building</td>\n",
       "      <td>1.702286</td>\n",
       "    </tr>\n",
       "    <tr>\n",
       "      <th>4419</th>\n",
       "      <td>Yuen Long</td>\n",
       "      <td>Wai Fat Building</td>\n",
       "      <td>2.352167</td>\n",
       "    </tr>\n",
       "    <tr>\n",
       "      <th>4420</th>\n",
       "      <td>Yuen Long</td>\n",
       "      <td>Wan Hing Building</td>\n",
       "      <td>0.834000</td>\n",
       "    </tr>\n",
       "    <tr>\n",
       "      <th>4421</th>\n",
       "      <td>Yuen Long</td>\n",
       "      <td>Wang Fung Building</td>\n",
       "      <td>2.182667</td>\n",
       "    </tr>\n",
       "    <tr>\n",
       "      <th>4422</th>\n",
       "      <td>Yuen Long</td>\n",
       "      <td>Windsor Villa</td>\n",
       "      <td>2.453250</td>\n",
       "    </tr>\n",
       "    <tr>\n",
       "      <th>4423</th>\n",
       "      <td>Yuen Long</td>\n",
       "      <td>Wing Fat House</td>\n",
       "      <td>2.038175</td>\n",
       "    </tr>\n",
       "    <tr>\n",
       "      <th>4424</th>\n",
       "      <td>Yuen Long</td>\n",
       "      <td>Wing Fu Mansion</td>\n",
       "      <td>1.939036</td>\n",
       "    </tr>\n",
       "    <tr>\n",
       "      <th>4425</th>\n",
       "      <td>Yuen Long</td>\n",
       "      <td>Wing Hing Building</td>\n",
       "      <td>1.837783</td>\n",
       "    </tr>\n",
       "    <tr>\n",
       "      <th>4426</th>\n",
       "      <td>Yuen Long</td>\n",
       "      <td>Wing Light Building</td>\n",
       "      <td>3.300000</td>\n",
       "    </tr>\n",
       "    <tr>\n",
       "      <th>4427</th>\n",
       "      <td>Yuen Long</td>\n",
       "      <td>Winland Building</td>\n",
       "      <td>0.890000</td>\n",
       "    </tr>\n",
       "    <tr>\n",
       "      <th>4428</th>\n",
       "      <td>Yuen Long</td>\n",
       "      <td>Wun Fat Building</td>\n",
       "      <td>1.588526</td>\n",
       "    </tr>\n",
       "    <tr>\n",
       "      <th>4429</th>\n",
       "      <td>Yuen Long</td>\n",
       "      <td>Yan Wing Mansion</td>\n",
       "      <td>2.800000</td>\n",
       "    </tr>\n",
       "    <tr>\n",
       "      <th>4430</th>\n",
       "      <td>Yuen Long</td>\n",
       "      <td>Yan Yee Building</td>\n",
       "      <td>1.568429</td>\n",
       "    </tr>\n",
       "    <tr>\n",
       "      <th>4431</th>\n",
       "      <td>Yuen Long</td>\n",
       "      <td>Yee Fung Building</td>\n",
       "      <td>2.500000</td>\n",
       "    </tr>\n",
       "    <tr>\n",
       "      <th>4432</th>\n",
       "      <td>Yuen Long</td>\n",
       "      <td>Yee Fung Garden</td>\n",
       "      <td>2.616604</td>\n",
       "    </tr>\n",
       "    <tr>\n",
       "      <th>4433</th>\n",
       "      <td>Yuen Long</td>\n",
       "      <td>Yee Hong Building</td>\n",
       "      <td>2.229000</td>\n",
       "    </tr>\n",
       "    <tr>\n",
       "      <th>4434</th>\n",
       "      <td>Yuen Long</td>\n",
       "      <td>Yen Tsui Gardens</td>\n",
       "      <td>2.794000</td>\n",
       "    </tr>\n",
       "    <tr>\n",
       "      <th>4435</th>\n",
       "      <td>Yuen Long</td>\n",
       "      <td>Yick Fai Building</td>\n",
       "      <td>1.967857</td>\n",
       "    </tr>\n",
       "    <tr>\n",
       "      <th>4436</th>\n",
       "      <td>Yuen Long</td>\n",
       "      <td>Yik Fat Building</td>\n",
       "      <td>1.712579</td>\n",
       "    </tr>\n",
       "    <tr>\n",
       "      <th>4437</th>\n",
       "      <td>Yuen Long</td>\n",
       "      <td>Yoho Town</td>\n",
       "      <td>4.396087</td>\n",
       "    </tr>\n",
       "    <tr>\n",
       "      <th>4438</th>\n",
       "      <td>Yuen Long</td>\n",
       "      <td>Yuccie Square</td>\n",
       "      <td>6.071537</td>\n",
       "    </tr>\n",
       "    <tr>\n",
       "      <th>4439</th>\n",
       "      <td>Yuen Long</td>\n",
       "      <td>Yue Fat Building</td>\n",
       "      <td>1.632571</td>\n",
       "    </tr>\n",
       "    <tr>\n",
       "      <th>4440</th>\n",
       "      <td>Yuen Long</td>\n",
       "      <td>Yue Fung Mansion</td>\n",
       "      <td>2.715200</td>\n",
       "    </tr>\n",
       "    <tr>\n",
       "      <th>4441</th>\n",
       "      <td>Yuen Long</td>\n",
       "      <td>Yuen Long Plaza</td>\n",
       "      <td>2.687368</td>\n",
       "    </tr>\n",
       "    <tr>\n",
       "      <th>4442</th>\n",
       "      <td>Yuen Long</td>\n",
       "      <td>Yuen San Building</td>\n",
       "      <td>1.580000</td>\n",
       "    </tr>\n",
       "    <tr>\n",
       "      <th>4443</th>\n",
       "      <td>Yuen Long</td>\n",
       "      <td>Yuk Lung Mansion</td>\n",
       "      <td>1.852914</td>\n",
       "    </tr>\n",
       "    <tr>\n",
       "      <th>4444</th>\n",
       "      <td>Yuen Long</td>\n",
       "      <td>kam Wah Building</td>\n",
       "      <td>1.400000</td>\n",
       "    </tr>\n",
       "  </tbody>\n",
       "</table>\n",
       "<p>4445 rows × 3 columns</p>\n",
       "</div>"
      ],
      "text/plain": [
       "     catfathername                   catname  predict_millions\n",
       "0         Aberdeen                Abba House          2.087042\n",
       "1         Aberdeen           Aberdeen Centre          2.466048\n",
       "2         Aberdeen  Aberdeen Harbour Mansion          1.596844\n",
       "3         Aberdeen        Ap Lei Chau Centre          1.535851\n",
       "4         Aberdeen       Bayshore Apartments          3.528747\n",
       "5         Aberdeen           BroadView Court          1.745402\n",
       "6         Aberdeen               Coble Court          1.711673\n",
       "7         Aberdeen            Comfort Centre          2.211083\n",
       "8         Aberdeen             Command Tower          1.468167\n",
       "9         Aberdeen       Ever Secure Mansion          1.400780\n",
       "10        Aberdeen         Full Jade Mansion          1.669037\n",
       "11        Aberdeen            Harrow Mansion          6.417273\n",
       "12        Aberdeen          Hip Sing Mansion          1.621167\n",
       "13        Aberdeen           Hoi Fai Mansion          1.709500\n",
       "14        Aberdeen            Hung Fuk Court          1.466349\n",
       "15        Aberdeen                 Jadewater          5.937424\n",
       "16        Aberdeen           Jing Hui Garden          2.330321\n",
       "17        Aberdeen            Jumbo Building          2.355660\n",
       "18        Aberdeen               Jumbo Court          2.589944\n",
       "19        Aberdeen             Ka Fook Court          3.380833\n",
       "20        Aberdeen             Ka Lung Court          2.107463\n",
       "21        Aberdeen           Ka Ning Mansion          2.443500\n",
       "22        Aberdeen            Ka Wo Building          1.666474\n",
       "23        Aberdeen         Kam Fung Building          2.506750\n",
       "24        Aberdeen          Kin Fai Building          1.502840\n",
       "25        Aberdeen          Kingston Mansion          1.946921\n",
       "26        Aberdeen         Kong Kai Building          1.941643\n",
       "27        Aberdeen         Man King Building          1.880615\n",
       "28        Aberdeen             Man Wah Court          0.978000\n",
       "29        Aberdeen                 May Court          1.260000\n",
       "...            ...                       ...               ...\n",
       "4415     Yuen Long            Villa Camellia          9.600000\n",
       "4416     Yuen Long            Villa Premiere          3.739263\n",
       "4417     Yuen Long            Villa Sunshine          3.852000\n",
       "4418     Yuen Long          Wah Kin Building          1.702286\n",
       "4419     Yuen Long          Wai Fat Building          2.352167\n",
       "4420     Yuen Long         Wan Hing Building          0.834000\n",
       "4421     Yuen Long        Wang Fung Building          2.182667\n",
       "4422     Yuen Long             Windsor Villa          2.453250\n",
       "4423     Yuen Long            Wing Fat House          2.038175\n",
       "4424     Yuen Long           Wing Fu Mansion          1.939036\n",
       "4425     Yuen Long        Wing Hing Building          1.837783\n",
       "4426     Yuen Long       Wing Light Building          3.300000\n",
       "4427     Yuen Long          Winland Building          0.890000\n",
       "4428     Yuen Long          Wun Fat Building          1.588526\n",
       "4429     Yuen Long          Yan Wing Mansion          2.800000\n",
       "4430     Yuen Long          Yan Yee Building          1.568429\n",
       "4431     Yuen Long         Yee Fung Building          2.500000\n",
       "4432     Yuen Long           Yee Fung Garden          2.616604\n",
       "4433     Yuen Long         Yee Hong Building          2.229000\n",
       "4434     Yuen Long          Yen Tsui Gardens          2.794000\n",
       "4435     Yuen Long         Yick Fai Building          1.967857\n",
       "4436     Yuen Long          Yik Fat Building          1.712579\n",
       "4437     Yuen Long                 Yoho Town          4.396087\n",
       "4438     Yuen Long             Yuccie Square          6.071537\n",
       "4439     Yuen Long          Yue Fat Building          1.632571\n",
       "4440     Yuen Long          Yue Fung Mansion          2.715200\n",
       "4441     Yuen Long           Yuen Long Plaza          2.687368\n",
       "4442     Yuen Long         Yuen San Building          1.580000\n",
       "4443     Yuen Long          Yuk Lung Mansion          1.852914\n",
       "4444     Yuen Long          kam Wah Building          1.400000\n",
       "\n",
       "[4445 rows x 3 columns]"
      ]
     },
     "execution_count": 90,
     "metadata": {},
     "output_type": "execute_result"
    }
   ],
   "source": [
    "pd.read_csv('28hse_prediction.csv')"
   ]
  },
  {
   "cell_type": "code",
   "execution_count": null,
   "metadata": {},
   "outputs": [],
   "source": []
  }
 ],
 "metadata": {
  "kernelspec": {
   "display_name": "accelerate",
   "language": "python",
   "name": "accelerate"
  },
  "language_info": {
   "codemirror_mode": {
    "name": "ipython",
    "version": 3
   },
   "file_extension": ".py",
   "mimetype": "text/x-python",
   "name": "python",
   "nbconvert_exporter": "python",
   "pygments_lexer": "ipython3",
   "version": "3.6.6"
  }
 },
 "nbformat": 4,
 "nbformat_minor": 2
}
