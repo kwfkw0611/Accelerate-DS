{
 "cells": [
  {
   "cell_type": "markdown",
   "metadata": {},
   "source": [
    "# Classes"
   ]
  },
  {
   "cell_type": "markdown",
   "metadata": {},
   "source": [
    "** 1.) ** Imagine that you want to develop a game and in that game you'll have monsters. Create a class called ‘Monster' and:\n",
    "\n",
    "* Initialize the Monster’s health as 100 and give the monster a name.\n",
    "* Give that monster a method called wounded, that takes one parameter. The parameter reduces the monsters health. \n",
    "* Create a function `strike` that returns a random number between 5-20, which is the damamge to be delt.\n",
    "* Use `strike` and the monsters wounded method to damge the monster until it's health is bellow 0.\n",
    "* When health is 0 print(‘monster dead’)\n"
   ]
  },
  {
   "cell_type": "markdown",
   "metadata": {},
   "source": [
    "\n",
    "*Hint* :The Monster class should rougthly look like this:\n",
    "\n",
    "\n",
    "```python\n",
    "\n",
    "class Monster:\n",
    "    \n",
    "    def __init__(self,name,health=100):\n",
    "        #initialize your stuff here\n",
    "\n",
    "\n",
    "    def wound(self,damage):\n",
    "        #Here is where you can damage the monster\n",
    "\n",
    "```\n",
    "\n",
    "You can create a random int using the random library.\n",
    "\n",
    "```python\n",
    "random.randint(start,stop)\n",
    "```\n",
    "\n"
   ]
  },
  {
   "cell_type": "code",
   "execution_count": 3,
   "metadata": {},
   "outputs": [],
   "source": [
    "import random"
   ]
  },
  {
   "cell_type": "code",
   "execution_count": 6,
   "metadata": {},
   "outputs": [
    {
     "data": {
      "text/plain": [
       "14"
      ]
     },
     "execution_count": 6,
     "metadata": {},
     "output_type": "execute_result"
    }
   ],
   "source": [
    "random.randint(1,21)"
   ]
  },
  {
   "cell_type": "code",
   "execution_count": 8,
   "metadata": {},
   "outputs": [
    {
     "name": "stdout",
     "output_type": "stream",
     "text": [
      "Bob health is 100\n",
      "Bob health is 85\n",
      "Bob health is 71\n",
      "Bob health is 59\n",
      "Bob health is 52\n",
      "Bob health is 31\n",
      "Bob health is 12\n",
      "Bob health is 2\n",
      "Bob is dead\n"
     ]
    }
   ],
   "source": [
    "class Monster:\n",
    "    \n",
    "    def __init__(self, name, health = 100):\n",
    "        self.name = name\n",
    "        self.health = 100\n",
    "        \n",
    "    def wound(self, damage):\n",
    "        self.health = self.health - damage\n",
    "        \n",
    "def strike():\n",
    "    return random.randint(5, 21)\n",
    "\n",
    "monster = Monster('Bob')\n",
    "while monster.health > 0:\n",
    "    print(f\"{monster.name} health is {monster.health}\")\n",
    "    monster.wound(strike())\n",
    "    if monster.health < 0:\n",
    "        print(f\"{monster.name} is dead\")"
   ]
  },
  {
   "cell_type": "code",
   "execution_count": 9,
   "metadata": {},
   "outputs": [],
   "source": [
    "# %load solutions/one.py\n",
    "    "
   ]
  },
  {
   "cell_type": "markdown",
   "metadata": {},
   "source": [
    "** 2.) ** Create a class to represent a person, they should have a name and an age. The person should have a `info` method which should return a string with his information, something like the bellow.\n",
    "\n",
    "```python\n",
    "\n",
    "person = Person(\"Tom\",44)\n",
    "person.info()\n",
    "\n",
    "'The person is called Tom an is 44 years old'\n",
    "```"
   ]
  },
  {
   "cell_type": "code",
   "execution_count": 18,
   "metadata": {},
   "outputs": [],
   "source": [
    "class Person:\n",
    "    \n",
    "    def __init__(self, name, age):\n",
    "        self.name = name\n",
    "        self.age = age\n",
    "    \n",
    "    def info(self):\n",
    "        return f\"The person is named {self.name} and is {self.age} years old!\""
   ]
  },
  {
   "cell_type": "code",
   "execution_count": 15,
   "metadata": {},
   "outputs": [
    {
     "data": {
      "text/plain": [
       "\u001b[0;31mInit signature:\u001b[0m \u001b[0mPerson\u001b[0m\u001b[0;34m(\u001b[0m\u001b[0mname\u001b[0m\u001b[0;34m,\u001b[0m \u001b[0mage\u001b[0m\u001b[0;34m)\u001b[0m\u001b[0;34m\u001b[0m\u001b[0m\n",
       "\u001b[0;31mDocstring:\u001b[0m      <no docstring>\n",
       "\u001b[0;31mType:\u001b[0m           type\n"
      ]
     },
     "metadata": {},
     "output_type": "display_data"
    }
   ],
   "source": [
    "?Person"
   ]
  },
  {
   "cell_type": "code",
   "execution_count": 19,
   "metadata": {},
   "outputs": [
    {
     "data": {
      "text/plain": [
       "'The person is named Bob and is 12 years old!'"
      ]
     },
     "execution_count": 19,
     "metadata": {},
     "output_type": "execute_result"
    }
   ],
   "source": [
    "person = Person('Bob', 12)\n",
    "person.info()"
   ]
  },
  {
   "cell_type": "code",
   "execution_count": 5,
   "metadata": {},
   "outputs": [],
   "source": [
    "# %load solutions/two.py\n"
   ]
  },
  {
   "cell_type": "markdown",
   "metadata": {},
   "source": [
    "\n",
    "** 3.) ** Continuing on from 2, create a class called Student which has the property gpa. Your student class should inherient from the `Person`, * hint * your need to use `super`.  Overwrite the info method so the .info() method returns the following string instead.  \n",
    "\n",
    "```python\n",
    "student = Student(\"Tom\",22,4.0)\n",
    "student.info()\n",
    "\n",
    "'The student is called Tom and is 22 years old. He has a overall GPA of 4.0 at uni.'\n",
    "\n",
    "```"
   ]
  },
  {
   "cell_type": "code",
   "execution_count": 12,
   "metadata": {},
   "outputs": [],
   "source": [
    "# %load solutions/three.py\n"
   ]
  },
  {
   "cell_type": "code",
   "execution_count": 20,
   "metadata": {},
   "outputs": [],
   "source": [
    "class Student:\n",
    "    \n",
    "    def __init__(self, name = str, grade = int, gpa = float):\n",
    "        self.name = name\n",
    "        self.grade = grade\n",
    "        self.gpa = gpa\n",
    "    \n",
    "    def info(self):\n",
    "        return f\"The student is {self.name} and is in grade {self.grade} with a GPA of {self.gpa}!\""
   ]
  },
  {
   "cell_type": "code",
   "execution_count": 21,
   "metadata": {},
   "outputs": [
    {
     "data": {
      "text/plain": [
       "'The student is Bob and is in grade 9 with a GPA of 3.69!'"
      ]
     },
     "execution_count": 21,
     "metadata": {},
     "output_type": "execute_result"
    }
   ],
   "source": [
    "student = Student('Bob', 9, 3.69)\n",
    "student.info()"
   ]
  },
  {
   "cell_type": "code",
   "execution_count": 22,
   "metadata": {},
   "outputs": [
    {
     "data": {
      "text/plain": [
       "\u001b[0;31mInit signature:\u001b[0m \u001b[0mStudent\u001b[0m\u001b[0;34m(\u001b[0m\u001b[0mname\u001b[0m\u001b[0;34m=\u001b[0m\u001b[0;34m<\u001b[0m\u001b[0;32mclass\u001b[0m \u001b[0;34m'str'\u001b[0m\u001b[0;34m>\u001b[0m\u001b[0;34m,\u001b[0m \u001b[0mgrade\u001b[0m\u001b[0;34m=\u001b[0m\u001b[0;34m<\u001b[0m\u001b[0;32mclass\u001b[0m \u001b[0;34m'int'\u001b[0m\u001b[0;34m>\u001b[0m\u001b[0;34m,\u001b[0m \u001b[0mgpa\u001b[0m\u001b[0;34m=\u001b[0m\u001b[0;34m<\u001b[0m\u001b[0;32mclass\u001b[0m \u001b[0;34m'float'\u001b[0m\u001b[0;34m>\u001b[0m\u001b[0;34m)\u001b[0m\u001b[0;34m\u001b[0m\u001b[0m\n",
       "\u001b[0;31mDocstring:\u001b[0m      <no docstring>\n",
       "\u001b[0;31mType:\u001b[0m           type\n"
      ]
     },
     "metadata": {},
     "output_type": "display_data"
    }
   ],
   "source": [
    "?Student"
   ]
  },
  {
   "cell_type": "code",
   "execution_count": 24,
   "metadata": {},
   "outputs": [],
   "source": [
    "class Student(Person):\n",
    "    \n",
    "    def __init__(self, name, age, gpa):\n",
    "        super().__init__(name, age)\n",
    "        self.gpa = gpa\n",
    "        \n",
    "    def info(self):\n",
    "        return f\"The student is called {self.name} and is {self.age} years old. He has overal GPA of {self.gpa}\""
   ]
  },
  {
   "cell_type": "code",
   "execution_count": 27,
   "metadata": {},
   "outputs": [
    {
     "data": {
      "text/plain": [
       "'The student is called Bob and is 21 years old. He has overal GPA of 2'"
      ]
     },
     "execution_count": 27,
     "metadata": {},
     "output_type": "execute_result"
    }
   ],
   "source": [
    "student = Student(\"Bob\", 21, 2)\n",
    "student.info()"
   ]
  }
 ],
 "metadata": {
  "kernelspec": {
   "display_name": "Python 3",
   "language": "python",
   "name": "python3"
  },
  "language_info": {
   "codemirror_mode": {
    "name": "ipython",
    "version": 3
   },
   "file_extension": ".py",
   "mimetype": "text/x-python",
   "name": "python",
   "nbconvert_exporter": "python",
   "pygments_lexer": "ipython3",
   "version": "3.6.4"
  }
 },
 "nbformat": 4,
 "nbformat_minor": 2
}
