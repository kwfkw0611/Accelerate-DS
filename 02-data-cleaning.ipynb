{
 "cells": [
  {
   "cell_type": "markdown",
   "metadata": {},
   "source": [
    "# Open Rice\n",
    "\n",
    "** 1.) ** We scrapped a data set from open rice but it needs cleaning:\n",
    "\n",
    "* Remove duplicate data.\n",
    "* Use a regex to clean the reviews column.\n",
    "* Remove the trailing commar from the address column.\n"
   ]
  },
  {
   "cell_type": "code",
   "execution_count": 28,
   "metadata": {},
   "outputs": [],
   "source": [
    "# import necessary libraries\n",
    "import pandas as pd\n",
    "import numpy as np\n",
    "import re\n",
    "import seaborn as sns\n",
    "import matplotlib.pyplot as plt\n",
    "%matplotlib inline\n",
    "plt.style.use('ggplot')\n",
    "plt.rcParams['figure.figsize'] = (13, 8)\n",
    "sns.set_style('whitegrid')"
   ]
  },
  {
   "cell_type": "code",
   "execution_count": 3,
   "metadata": {},
   "outputs": [],
   "source": [
    "# import necessary libraries\n",
    "import pandas as pd\n",
    "import numpy as np\n",
    "import re\n",
    "import seaborn as sns\n",
    "import matplotlib.pyplot as plt\n",
    "%matplotlib inline\n",
    "plt.style.use('ggplot')\n",
    "plt.rcParams['figure.figsize'] = (13, 8)\n",
    "sns.set_style('whitegrid')"
   ]
  },
  {
   "cell_type": "code",
   "execution_count": 4,
   "metadata": {},
   "outputs": [],
   "source": [
    "# import openrice data into dataframe\n",
    "df = pd.read_csv(\"data/open-rice.csv\")"
   ]
  },
  {
   "cell_type": "code",
   "execution_count": 5,
   "metadata": {},
   "outputs": [
    {
     "data": {
      "text/html": [
       "<div>\n",
       "<style scoped>\n",
       "    .dataframe tbody tr th:only-of-type {\n",
       "        vertical-align: middle;\n",
       "    }\n",
       "\n",
       "    .dataframe tbody tr th {\n",
       "        vertical-align: top;\n",
       "    }\n",
       "\n",
       "    .dataframe thead th {\n",
       "        text-align: right;\n",
       "    }\n",
       "</style>\n",
       "<table border=\"1\" class=\"dataframe\">\n",
       "  <thead>\n",
       "    <tr style=\"text-align: right;\">\n",
       "      <th></th>\n",
       "      <th>address</th>\n",
       "      <th>bookmarks</th>\n",
       "      <th>dislikes</th>\n",
       "      <th>food_type</th>\n",
       "      <th>likes</th>\n",
       "      <th>name</th>\n",
       "      <th>number_of_reviews</th>\n",
       "      <th>price_range</th>\n",
       "    </tr>\n",
       "  </thead>\n",
       "  <tbody>\n",
       "    <tr>\n",
       "      <th>0</th>\n",
       "      <td>Shop J-K., 200 Hollywood Road,</td>\n",
       "      <td>5838</td>\n",
       "      <td>6</td>\n",
       "      <td>Hong Kong Style</td>\n",
       "      <td>78</td>\n",
       "      <td>For Kee Restaurant 科記咖啡餐室</td>\n",
       "      <td>(133 Reviews)</td>\n",
       "      <td>Below $50</td>\n",
       "    </tr>\n",
       "    <tr>\n",
       "      <th>1</th>\n",
       "      <td>G/F, 108 Hollywood Road,</td>\n",
       "      <td>3492</td>\n",
       "      <td>2</td>\n",
       "      <td>International</td>\n",
       "      <td>20</td>\n",
       "      <td>Blue · Butcher &amp; Meat Specialist</td>\n",
       "      <td>(30 Reviews)</td>\n",
       "      <td>$201-400</td>\n",
       "    </tr>\n",
       "    <tr>\n",
       "      <th>2</th>\n",
       "      <td>G/F, 206 Hollywood Road,</td>\n",
       "      <td>5517</td>\n",
       "      <td>5</td>\n",
       "      <td>Thai</td>\n",
       "      <td>31</td>\n",
       "      <td>Chachawan</td>\n",
       "      <td>(43 Reviews)</td>\n",
       "      <td>$201-400</td>\n",
       "    </tr>\n",
       "    <tr>\n",
       "      <th>3</th>\n",
       "      <td>Shop 3018, 3/F, Shun Tak Centre, 168-200 Conna...</td>\n",
       "      <td>1173</td>\n",
       "      <td>1</td>\n",
       "      <td>Hong Kong Style</td>\n",
       "      <td>23</td>\n",
       "      <td>Capital Café 華星冰室</td>\n",
       "      <td>(39 Reviews)</td>\n",
       "      <td>Below $50</td>\n",
       "    </tr>\n",
       "    <tr>\n",
       "      <th>4</th>\n",
       "      <td>G/F, 38 Queens Road West,</td>\n",
       "      <td>1064</td>\n",
       "      <td>1</td>\n",
       "      <td>Indian</td>\n",
       "      <td>50</td>\n",
       "      <td>Namaste Kitchen 滋味廚房</td>\n",
       "      <td>(57 Reviews)</td>\n",
       "      <td>$51-100</td>\n",
       "    </tr>\n",
       "  </tbody>\n",
       "</table>\n",
       "</div>"
      ],
      "text/plain": [
       "                                             address  bookmarks  dislikes  \\\n",
       "0                     Shop J-K., 200 Hollywood Road,       5838         6   \n",
       "1                           G/F, 108 Hollywood Road,       3492         2   \n",
       "2                           G/F, 206 Hollywood Road,       5517         5   \n",
       "3  Shop 3018, 3/F, Shun Tak Centre, 168-200 Conna...       1173         1   \n",
       "4                          G/F, 38 Queens Road West,       1064         1   \n",
       "\n",
       "         food_type  likes                              name number_of_reviews  \\\n",
       "0  Hong Kong Style     78         For Kee Restaurant 科記咖啡餐室     (133 Reviews)   \n",
       "1    International     20  Blue · Butcher & Meat Specialist      (30 Reviews)   \n",
       "2             Thai     31                         Chachawan      (43 Reviews)   \n",
       "3  Hong Kong Style     23                 Capital Café 華星冰室      (39 Reviews)   \n",
       "4           Indian     50              Namaste Kitchen 滋味廚房      (57 Reviews)   \n",
       "\n",
       "  price_range  \n",
       "0   Below $50  \n",
       "1    $201-400  \n",
       "2    $201-400  \n",
       "3   Below $50  \n",
       "4     $51-100  "
      ]
     },
     "execution_count": 5,
     "metadata": {},
     "output_type": "execute_result"
    }
   ],
   "source": [
    "# verify import of data\n",
    "df.head()"
   ]
  },
  {
   "cell_type": "code",
   "execution_count": 6,
   "metadata": {},
   "outputs": [
    {
     "name": "stdout",
     "output_type": "stream",
     "text": [
      "<class 'pandas.core.frame.DataFrame'>\n",
      "RangeIndex: 26165 entries, 0 to 26164\n",
      "Data columns (total 8 columns):\n",
      "address              26165 non-null object\n",
      "bookmarks            26165 non-null int64\n",
      "dislikes             26165 non-null int64\n",
      "food_type            26165 non-null object\n",
      "likes                26165 non-null int64\n",
      "name                 26165 non-null object\n",
      "number_of_reviews    26165 non-null object\n",
      "price_range          26165 non-null object\n",
      "dtypes: int64(3), object(5)\n",
      "memory usage: 1.6+ MB\n"
     ]
    }
   ],
   "source": [
    "# summary of openrice data\n",
    "df.info()"
   ]
  },
  {
   "cell_type": "code",
   "execution_count": 7,
   "metadata": {},
   "outputs": [],
   "source": [
    "# drop duplicate data\n",
    "df = df.drop_duplicates()"
   ]
  },
  {
   "cell_type": "code",
   "execution_count": 8,
   "metadata": {},
   "outputs": [
    {
     "name": "stdout",
     "output_type": "stream",
     "text": [
      "<class 'pandas.core.frame.DataFrame'>\n",
      "Int64Index: 21299 entries, 0 to 26164\n",
      "Data columns (total 8 columns):\n",
      "address              21299 non-null object\n",
      "bookmarks            21299 non-null int64\n",
      "dislikes             21299 non-null int64\n",
      "food_type            21299 non-null object\n",
      "likes                21299 non-null int64\n",
      "name                 21299 non-null object\n",
      "number_of_reviews    21299 non-null object\n",
      "price_range          21299 non-null object\n",
      "dtypes: int64(3), object(5)\n",
      "memory usage: 1.5+ MB\n"
     ]
    }
   ],
   "source": [
    "df.info()"
   ]
  },
  {
   "cell_type": "code",
   "execution_count": 9,
   "metadata": {},
   "outputs": [],
   "source": [
    "# function to clean 'number_of_reviews' column by deleting everything except digits\n",
    "def parse_rev(s):\n",
    "    # search \n",
    "    n = re.search(r\"\\((\\d+)(\\s\\w+\\))\", s)\n",
    "    # match\n",
    "    if n:\n",
    "        return int(n.group(1))\n",
    "    return np.nan"
   ]
  },
  {
   "cell_type": "code",
   "execution_count": 10,
   "metadata": {},
   "outputs": [],
   "source": [
    "df['number_of_reviews'] = df['number_of_reviews'].apply(parse_rev)"
   ]
  },
  {
   "cell_type": "code",
   "execution_count": 11,
   "metadata": {},
   "outputs": [
    {
     "data": {
      "text/html": [
       "<div>\n",
       "<style scoped>\n",
       "    .dataframe tbody tr th:only-of-type {\n",
       "        vertical-align: middle;\n",
       "    }\n",
       "\n",
       "    .dataframe tbody tr th {\n",
       "        vertical-align: top;\n",
       "    }\n",
       "\n",
       "    .dataframe thead th {\n",
       "        text-align: right;\n",
       "    }\n",
       "</style>\n",
       "<table border=\"1\" class=\"dataframe\">\n",
       "  <thead>\n",
       "    <tr style=\"text-align: right;\">\n",
       "      <th></th>\n",
       "      <th>address</th>\n",
       "      <th>bookmarks</th>\n",
       "      <th>dislikes</th>\n",
       "      <th>food_type</th>\n",
       "      <th>likes</th>\n",
       "      <th>name</th>\n",
       "      <th>number_of_reviews</th>\n",
       "      <th>price_range</th>\n",
       "    </tr>\n",
       "  </thead>\n",
       "  <tbody>\n",
       "    <tr>\n",
       "      <th>0</th>\n",
       "      <td>Shop J-K., 200 Hollywood Road,</td>\n",
       "      <td>5838</td>\n",
       "      <td>6</td>\n",
       "      <td>Hong Kong Style</td>\n",
       "      <td>78</td>\n",
       "      <td>For Kee Restaurant 科記咖啡餐室</td>\n",
       "      <td>133</td>\n",
       "      <td>Below $50</td>\n",
       "    </tr>\n",
       "    <tr>\n",
       "      <th>1</th>\n",
       "      <td>G/F, 108 Hollywood Road,</td>\n",
       "      <td>3492</td>\n",
       "      <td>2</td>\n",
       "      <td>International</td>\n",
       "      <td>20</td>\n",
       "      <td>Blue · Butcher &amp; Meat Specialist</td>\n",
       "      <td>30</td>\n",
       "      <td>$201-400</td>\n",
       "    </tr>\n",
       "    <tr>\n",
       "      <th>2</th>\n",
       "      <td>G/F, 206 Hollywood Road,</td>\n",
       "      <td>5517</td>\n",
       "      <td>5</td>\n",
       "      <td>Thai</td>\n",
       "      <td>31</td>\n",
       "      <td>Chachawan</td>\n",
       "      <td>43</td>\n",
       "      <td>$201-400</td>\n",
       "    </tr>\n",
       "    <tr>\n",
       "      <th>3</th>\n",
       "      <td>Shop 3018, 3/F, Shun Tak Centre, 168-200 Conna...</td>\n",
       "      <td>1173</td>\n",
       "      <td>1</td>\n",
       "      <td>Hong Kong Style</td>\n",
       "      <td>23</td>\n",
       "      <td>Capital Café 華星冰室</td>\n",
       "      <td>39</td>\n",
       "      <td>Below $50</td>\n",
       "    </tr>\n",
       "    <tr>\n",
       "      <th>4</th>\n",
       "      <td>G/F, 38 Queens Road West,</td>\n",
       "      <td>1064</td>\n",
       "      <td>1</td>\n",
       "      <td>Indian</td>\n",
       "      <td>50</td>\n",
       "      <td>Namaste Kitchen 滋味廚房</td>\n",
       "      <td>57</td>\n",
       "      <td>$51-100</td>\n",
       "    </tr>\n",
       "  </tbody>\n",
       "</table>\n",
       "</div>"
      ],
      "text/plain": [
       "                                             address  bookmarks  dislikes  \\\n",
       "0                     Shop J-K., 200 Hollywood Road,       5838         6   \n",
       "1                           G/F, 108 Hollywood Road,       3492         2   \n",
       "2                           G/F, 206 Hollywood Road,       5517         5   \n",
       "3  Shop 3018, 3/F, Shun Tak Centre, 168-200 Conna...       1173         1   \n",
       "4                          G/F, 38 Queens Road West,       1064         1   \n",
       "\n",
       "         food_type  likes                              name  \\\n",
       "0  Hong Kong Style     78         For Kee Restaurant 科記咖啡餐室   \n",
       "1    International     20  Blue · Butcher & Meat Specialist   \n",
       "2             Thai     31                         Chachawan   \n",
       "3  Hong Kong Style     23                 Capital Café 華星冰室   \n",
       "4           Indian     50              Namaste Kitchen 滋味廚房   \n",
       "\n",
       "   number_of_reviews price_range  \n",
       "0                133   Below $50  \n",
       "1                 30    $201-400  \n",
       "2                 43    $201-400  \n",
       "3                 39   Below $50  \n",
       "4                 57     $51-100  "
      ]
     },
     "execution_count": 11,
     "metadata": {},
     "output_type": "execute_result"
    }
   ],
   "source": [
    "df.head()"
   ]
  },
  {
   "cell_type": "code",
   "execution_count": 12,
   "metadata": {},
   "outputs": [
    {
     "data": {
      "text/plain": [
       "address              object\n",
       "bookmarks             int64\n",
       "dislikes              int64\n",
       "food_type            object\n",
       "likes                 int64\n",
       "name                 object\n",
       "number_of_reviews     int64\n",
       "price_range          object\n",
       "dtype: object"
      ]
     },
     "execution_count": 12,
     "metadata": {},
     "output_type": "execute_result"
    }
   ],
   "source": [
    "df.dtypes"
   ]
  },
  {
   "cell_type": "code",
   "execution_count": 13,
   "metadata": {},
   "outputs": [],
   "source": [
    "# function to clean 'address' column by deleting last comma\n",
    "def parse_add(s):\n",
    "    a = re.search(r\"(.+)(\\,)$\", s)\n",
    "    if a:\n",
    "        return a.group(1)\n",
    "    return np.nan"
   ]
  },
  {
   "cell_type": "code",
   "execution_count": 14,
   "metadata": {},
   "outputs": [],
   "source": [
    "df['address'] = df['address'].apply(parse_add)"
   ]
  },
  {
   "cell_type": "code",
   "execution_count": 15,
   "metadata": {},
   "outputs": [
    {
     "data": {
      "text/html": [
       "<div>\n",
       "<style scoped>\n",
       "    .dataframe tbody tr th:only-of-type {\n",
       "        vertical-align: middle;\n",
       "    }\n",
       "\n",
       "    .dataframe tbody tr th {\n",
       "        vertical-align: top;\n",
       "    }\n",
       "\n",
       "    .dataframe thead th {\n",
       "        text-align: right;\n",
       "    }\n",
       "</style>\n",
       "<table border=\"1\" class=\"dataframe\">\n",
       "  <thead>\n",
       "    <tr style=\"text-align: right;\">\n",
       "      <th></th>\n",
       "      <th>address</th>\n",
       "      <th>bookmarks</th>\n",
       "      <th>dislikes</th>\n",
       "      <th>food_type</th>\n",
       "      <th>likes</th>\n",
       "      <th>name</th>\n",
       "      <th>number_of_reviews</th>\n",
       "      <th>price_range</th>\n",
       "    </tr>\n",
       "  </thead>\n",
       "  <tbody>\n",
       "    <tr>\n",
       "      <th>0</th>\n",
       "      <td>Shop J-K., 200 Hollywood Road</td>\n",
       "      <td>5838</td>\n",
       "      <td>6</td>\n",
       "      <td>Hong Kong Style</td>\n",
       "      <td>78</td>\n",
       "      <td>For Kee Restaurant 科記咖啡餐室</td>\n",
       "      <td>133</td>\n",
       "      <td>Below $50</td>\n",
       "    </tr>\n",
       "    <tr>\n",
       "      <th>1</th>\n",
       "      <td>G/F, 108 Hollywood Road</td>\n",
       "      <td>3492</td>\n",
       "      <td>2</td>\n",
       "      <td>International</td>\n",
       "      <td>20</td>\n",
       "      <td>Blue · Butcher &amp; Meat Specialist</td>\n",
       "      <td>30</td>\n",
       "      <td>$201-400</td>\n",
       "    </tr>\n",
       "    <tr>\n",
       "      <th>2</th>\n",
       "      <td>G/F, 206 Hollywood Road</td>\n",
       "      <td>5517</td>\n",
       "      <td>5</td>\n",
       "      <td>Thai</td>\n",
       "      <td>31</td>\n",
       "      <td>Chachawan</td>\n",
       "      <td>43</td>\n",
       "      <td>$201-400</td>\n",
       "    </tr>\n",
       "    <tr>\n",
       "      <th>3</th>\n",
       "      <td>Shop 3018, 3/F, Shun Tak Centre, 168-200 Conna...</td>\n",
       "      <td>1173</td>\n",
       "      <td>1</td>\n",
       "      <td>Hong Kong Style</td>\n",
       "      <td>23</td>\n",
       "      <td>Capital Café 華星冰室</td>\n",
       "      <td>39</td>\n",
       "      <td>Below $50</td>\n",
       "    </tr>\n",
       "    <tr>\n",
       "      <th>4</th>\n",
       "      <td>G/F, 38 Queens Road West</td>\n",
       "      <td>1064</td>\n",
       "      <td>1</td>\n",
       "      <td>Indian</td>\n",
       "      <td>50</td>\n",
       "      <td>Namaste Kitchen 滋味廚房</td>\n",
       "      <td>57</td>\n",
       "      <td>$51-100</td>\n",
       "    </tr>\n",
       "  </tbody>\n",
       "</table>\n",
       "</div>"
      ],
      "text/plain": [
       "                                             address  bookmarks  dislikes  \\\n",
       "0                      Shop J-K., 200 Hollywood Road       5838         6   \n",
       "1                            G/F, 108 Hollywood Road       3492         2   \n",
       "2                            G/F, 206 Hollywood Road       5517         5   \n",
       "3  Shop 3018, 3/F, Shun Tak Centre, 168-200 Conna...       1173         1   \n",
       "4                           G/F, 38 Queens Road West       1064         1   \n",
       "\n",
       "         food_type  likes                              name  \\\n",
       "0  Hong Kong Style     78         For Kee Restaurant 科記咖啡餐室   \n",
       "1    International     20  Blue · Butcher & Meat Specialist   \n",
       "2             Thai     31                         Chachawan   \n",
       "3  Hong Kong Style     23                 Capital Café 華星冰室   \n",
       "4           Indian     50              Namaste Kitchen 滋味廚房   \n",
       "\n",
       "   number_of_reviews price_range  \n",
       "0                133   Below $50  \n",
       "1                 30    $201-400  \n",
       "2                 43    $201-400  \n",
       "3                 39   Below $50  \n",
       "4                 57     $51-100  "
      ]
     },
     "execution_count": 15,
     "metadata": {},
     "output_type": "execute_result"
    }
   ],
   "source": [
    "df.head()"
   ]
  },
  {
   "cell_type": "code",
   "execution_count": 16,
   "metadata": {},
   "outputs": [
    {
     "data": {
      "text/plain": [
       "(21299, 8)"
      ]
     },
     "execution_count": 16,
     "metadata": {},
     "output_type": "execute_result"
    }
   ],
   "source": [
    "df.shape"
   ]
  },
  {
   "cell_type": "code",
   "execution_count": 5,
   "metadata": {},
   "outputs": [],
   "source": [
    "# %load solutions/openrice_1.py\n"
   ]
  },
  {
   "cell_type": "code",
   "execution_count": 6,
   "metadata": {},
   "outputs": [
    {
     "data": {
      "text/plain": [
       "(21299, 8)"
      ]
     },
     "execution_count": 6,
     "metadata": {},
     "output_type": "execute_result"
    }
   ],
   "source": [
    "openrice.shape"
   ]
  },
  {
   "cell_type": "code",
   "execution_count": 7,
   "metadata": {},
   "outputs": [],
   "source": [
    "# %load solutions/clean_reviews.py\n"
   ]
  },
  {
   "cell_type": "markdown",
   "metadata": {},
   "source": [
    "** 2.) ** Which resturant in Hong Kong is the most favorable? In terms of likes, in terms of bookmarks?"
   ]
  },
  {
   "cell_type": "code",
   "execution_count": 17,
   "metadata": {},
   "outputs": [],
   "source": [
    "# %load solutions/openrice_2.py\n"
   ]
  },
  {
   "cell_type": "code",
   "execution_count": 18,
   "metadata": {},
   "outputs": [
    {
     "data": {
      "text/html": [
       "<div>\n",
       "<style scoped>\n",
       "    .dataframe tbody tr th:only-of-type {\n",
       "        vertical-align: middle;\n",
       "    }\n",
       "\n",
       "    .dataframe tbody tr th {\n",
       "        vertical-align: top;\n",
       "    }\n",
       "\n",
       "    .dataframe thead th {\n",
       "        text-align: right;\n",
       "    }\n",
       "</style>\n",
       "<table border=\"1\" class=\"dataframe\">\n",
       "  <thead>\n",
       "    <tr style=\"text-align: right;\">\n",
       "      <th></th>\n",
       "      <th>address</th>\n",
       "      <th>bookmarks</th>\n",
       "      <th>dislikes</th>\n",
       "      <th>food_type</th>\n",
       "      <th>likes</th>\n",
       "      <th>name</th>\n",
       "      <th>number_of_reviews</th>\n",
       "      <th>price_range</th>\n",
       "    </tr>\n",
       "  </thead>\n",
       "  <tbody>\n",
       "    <tr>\n",
       "      <th>569</th>\n",
       "      <td>G/F, 47-49 Parkes Street</td>\n",
       "      <td>35511</td>\n",
       "      <td>267</td>\n",
       "      <td>Hong Kong Style</td>\n",
       "      <td>1585</td>\n",
       "      <td>Australia Dairy Company 澳洲牛奶公司</td>\n",
       "      <td>2595</td>\n",
       "      <td>Below $50</td>\n",
       "    </tr>\n",
       "    <tr>\n",
       "      <th>23128</th>\n",
       "      <td>G/F, 47-49 Parkes Street</td>\n",
       "      <td>35511</td>\n",
       "      <td>267</td>\n",
       "      <td>Tea Restaurant</td>\n",
       "      <td>1585</td>\n",
       "      <td>Australia Dairy Company 澳洲牛奶公司</td>\n",
       "      <td>2595</td>\n",
       "      <td>Below $50</td>\n",
       "    </tr>\n",
       "    <tr>\n",
       "      <th>20272</th>\n",
       "      <td>G/F, 7A-7B Tak Hing Street</td>\n",
       "      <td>13740</td>\n",
       "      <td>267</td>\n",
       "      <td>Western</td>\n",
       "      <td>1585</td>\n",
       "      <td>Pom's Kitchen &amp; Deli</td>\n",
       "      <td>2595</td>\n",
       "      <td>$101-200</td>\n",
       "    </tr>\n",
       "    <tr>\n",
       "      <th>243</th>\n",
       "      <td>2 Mei Lun Street</td>\n",
       "      <td>38286</td>\n",
       "      <td>76</td>\n",
       "      <td>Hong Kong Style</td>\n",
       "      <td>929</td>\n",
       "      <td>Sing Heung Yuen 勝香園</td>\n",
       "      <td>1309</td>\n",
       "      <td>Below $50</td>\n",
       "    </tr>\n",
       "    <tr>\n",
       "      <th>23126</th>\n",
       "      <td>2 Mei Lun Street</td>\n",
       "      <td>38286</td>\n",
       "      <td>76</td>\n",
       "      <td>Tea Restaurant</td>\n",
       "      <td>929</td>\n",
       "      <td>Sing Heung Yuen 勝香園</td>\n",
       "      <td>1309</td>\n",
       "      <td>Below $50</td>\n",
       "    </tr>\n",
       "  </tbody>\n",
       "</table>\n",
       "</div>"
      ],
      "text/plain": [
       "                          address  bookmarks  dislikes        food_type  \\\n",
       "569      G/F, 47-49 Parkes Street      35511       267  Hong Kong Style   \n",
       "23128    G/F, 47-49 Parkes Street      35511       267   Tea Restaurant   \n",
       "20272  G/F, 7A-7B Tak Hing Street      13740       267          Western   \n",
       "243              2 Mei Lun Street      38286        76  Hong Kong Style   \n",
       "23126            2 Mei Lun Street      38286        76   Tea Restaurant   \n",
       "\n",
       "       likes                            name  number_of_reviews price_range  \n",
       "569     1585  Australia Dairy Company 澳洲牛奶公司               2595   Below $50  \n",
       "23128   1585  Australia Dairy Company 澳洲牛奶公司               2595   Below $50  \n",
       "20272   1585            Pom's Kitchen & Deli               2595    $101-200  \n",
       "243      929             Sing Heung Yuen 勝香園               1309   Below $50  \n",
       "23126    929             Sing Heung Yuen 勝香園               1309   Below $50  "
      ]
     },
     "execution_count": 18,
     "metadata": {},
     "output_type": "execute_result"
    }
   ],
   "source": [
    "# most restaurant likes\n",
    "likes = df.sort_values(by='likes', ascending=False)\n",
    "likes.head()"
   ]
  },
  {
   "cell_type": "code",
   "execution_count": 19,
   "metadata": {},
   "outputs": [
    {
     "data": {
      "text/html": [
       "<div>\n",
       "<style scoped>\n",
       "    .dataframe tbody tr th:only-of-type {\n",
       "        vertical-align: middle;\n",
       "    }\n",
       "\n",
       "    .dataframe tbody tr th {\n",
       "        vertical-align: top;\n",
       "    }\n",
       "\n",
       "    .dataframe thead th {\n",
       "        text-align: right;\n",
       "    }\n",
       "</style>\n",
       "<table border=\"1\" class=\"dataframe\">\n",
       "  <thead>\n",
       "    <tr style=\"text-align: right;\">\n",
       "      <th></th>\n",
       "      <th>address</th>\n",
       "      <th>bookmarks</th>\n",
       "      <th>dislikes</th>\n",
       "      <th>food_type</th>\n",
       "      <th>likes</th>\n",
       "      <th>name</th>\n",
       "      <th>number_of_reviews</th>\n",
       "      <th>price_range</th>\n",
       "    </tr>\n",
       "  </thead>\n",
       "  <tbody>\n",
       "    <tr>\n",
       "      <th>233</th>\n",
       "      <td>Level L, Cordis, Hong Kong at Langham Place, 5...</td>\n",
       "      <td>43087</td>\n",
       "      <td>67</td>\n",
       "      <td>International</td>\n",
       "      <td>210</td>\n",
       "      <td>The Place</td>\n",
       "      <td>422</td>\n",
       "      <td>$401-800</td>\n",
       "    </tr>\n",
       "    <tr>\n",
       "      <th>16788</th>\n",
       "      <td>Level L, Cordis, Hong Kong at Langham Place, 5...</td>\n",
       "      <td>43087</td>\n",
       "      <td>67</td>\n",
       "      <td>Hotel Restaurant</td>\n",
       "      <td>210</td>\n",
       "      <td>The Place</td>\n",
       "      <td>422</td>\n",
       "      <td>$401-800</td>\n",
       "    </tr>\n",
       "    <tr>\n",
       "      <th>21623</th>\n",
       "      <td>Level L, Cordis, Hong Kong at Langham Place, 5...</td>\n",
       "      <td>43087</td>\n",
       "      <td>7</td>\n",
       "      <td>International</td>\n",
       "      <td>223</td>\n",
       "      <td>The Place</td>\n",
       "      <td>265</td>\n",
       "      <td>$401-800</td>\n",
       "    </tr>\n",
       "    <tr>\n",
       "      <th>18573</th>\n",
       "      <td>Shop 1-2, G/F, Kiu Fung Mansion, 83-89 Kimberl...</td>\n",
       "      <td>40506</td>\n",
       "      <td>11</td>\n",
       "      <td>Bar</td>\n",
       "      <td>272</td>\n",
       "      <td>LAB EAT Restaurant &amp; Bar</td>\n",
       "      <td>353</td>\n",
       "      <td>$201-400</td>\n",
       "    </tr>\n",
       "    <tr>\n",
       "      <th>20316</th>\n",
       "      <td>Shop 1-2, G/F, Kiu Fung Mansion, 83-89 Kimberl...</td>\n",
       "      <td>40506</td>\n",
       "      <td>25</td>\n",
       "      <td>Western</td>\n",
       "      <td>385</td>\n",
       "      <td>LAB EAT Restaurant &amp; Bar</td>\n",
       "      <td>487</td>\n",
       "      <td>$201-400</td>\n",
       "    </tr>\n",
       "  </tbody>\n",
       "</table>\n",
       "</div>"
      ],
      "text/plain": [
       "                                                 address  bookmarks  dislikes  \\\n",
       "233    Level L, Cordis, Hong Kong at Langham Place, 5...      43087        67   \n",
       "16788  Level L, Cordis, Hong Kong at Langham Place, 5...      43087        67   \n",
       "21623  Level L, Cordis, Hong Kong at Langham Place, 5...      43087         7   \n",
       "18573  Shop 1-2, G/F, Kiu Fung Mansion, 83-89 Kimberl...      40506        11   \n",
       "20316  Shop 1-2, G/F, Kiu Fung Mansion, 83-89 Kimberl...      40506        25   \n",
       "\n",
       "              food_type  likes                      name  number_of_reviews  \\\n",
       "233       International    210                 The Place                422   \n",
       "16788  Hotel Restaurant    210                 The Place                422   \n",
       "21623     International    223                 The Place                265   \n",
       "18573               Bar    272  LAB EAT Restaurant & Bar                353   \n",
       "20316           Western    385  LAB EAT Restaurant & Bar                487   \n",
       "\n",
       "      price_range  \n",
       "233      $401-800  \n",
       "16788    $401-800  \n",
       "21623    $401-800  \n",
       "18573    $201-400  \n",
       "20316    $201-400  "
      ]
     },
     "execution_count": 19,
     "metadata": {},
     "output_type": "execute_result"
    }
   ],
   "source": [
    "# most restaurant bookmarks\n",
    "bk = df.sort_values(by='bookmarks', ascending=False)\n",
    "bk.head()"
   ]
  },
  {
   "cell_type": "markdown",
   "metadata": {},
   "source": [
    "** 3.) ** What is the price range for the whole open rice dataset?"
   ]
  },
  {
   "cell_type": "code",
   "execution_count": 20,
   "metadata": {},
   "outputs": [
    {
     "data": {
      "text/plain": [
       "Below $50     7808\n",
       "$101-200      5221\n",
       "$51-100       4963\n",
       "$201-400      2511\n",
       "$401-800       635\n",
       "Above $801     161\n",
       "Name: price_range, dtype: int64"
      ]
     },
     "execution_count": 20,
     "metadata": {},
     "output_type": "execute_result"
    }
   ],
   "source": [
    "pr = df['price_range'].value_counts()\n",
    "pr"
   ]
  },
  {
   "cell_type": "code",
   "execution_count": 21,
   "metadata": {},
   "outputs": [],
   "source": [
    "# %load solutions/openrice_3.py\n"
   ]
  },
  {
   "cell_type": "markdown",
   "metadata": {},
   "source": [
    "** 4.) ** By grouping price_range with mean and median, what can you observe from bookmarks and likes?\n"
   ]
  },
  {
   "cell_type": "code",
   "execution_count": 22,
   "metadata": {},
   "outputs": [],
   "source": [
    "# %load solutions/openrice_4.py\n"
   ]
  },
  {
   "cell_type": "code",
   "execution_count": 23,
   "metadata": {},
   "outputs": [],
   "source": [
    "gpr = df.groupby('price_range', as_index=False)[['bookmarks', 'dislikes','likes', 'number_of_reviews']].agg(['mean','median'])"
   ]
  },
  {
   "cell_type": "code",
   "execution_count": 24,
   "metadata": {},
   "outputs": [
    {
     "data": {
      "text/html": [
       "<div>\n",
       "<style scoped>\n",
       "    .dataframe tbody tr th:only-of-type {\n",
       "        vertical-align: middle;\n",
       "    }\n",
       "\n",
       "    .dataframe tbody tr th {\n",
       "        vertical-align: top;\n",
       "    }\n",
       "\n",
       "    .dataframe thead tr th {\n",
       "        text-align: left;\n",
       "    }\n",
       "\n",
       "    .dataframe thead tr:last-of-type th {\n",
       "        text-align: right;\n",
       "    }\n",
       "</style>\n",
       "<table border=\"1\" class=\"dataframe\">\n",
       "  <thead>\n",
       "    <tr>\n",
       "      <th></th>\n",
       "      <th colspan=\"2\" halign=\"left\">bookmarks</th>\n",
       "      <th colspan=\"2\" halign=\"left\">dislikes</th>\n",
       "      <th colspan=\"2\" halign=\"left\">likes</th>\n",
       "      <th colspan=\"2\" halign=\"left\">number_of_reviews</th>\n",
       "    </tr>\n",
       "    <tr>\n",
       "      <th></th>\n",
       "      <th>mean</th>\n",
       "      <th>median</th>\n",
       "      <th>mean</th>\n",
       "      <th>median</th>\n",
       "      <th>mean</th>\n",
       "      <th>median</th>\n",
       "      <th>mean</th>\n",
       "      <th>median</th>\n",
       "    </tr>\n",
       "    <tr>\n",
       "      <th>price_range</th>\n",
       "      <th></th>\n",
       "      <th></th>\n",
       "      <th></th>\n",
       "      <th></th>\n",
       "      <th></th>\n",
       "      <th></th>\n",
       "      <th></th>\n",
       "      <th></th>\n",
       "    </tr>\n",
       "  </thead>\n",
       "  <tbody>\n",
       "    <tr>\n",
       "      <th>$101-200</th>\n",
       "      <td>2769.002873</td>\n",
       "      <td>1140</td>\n",
       "      <td>6.826662</td>\n",
       "      <td>3</td>\n",
       "      <td>61.536870</td>\n",
       "      <td>30</td>\n",
       "      <td>89.860372</td>\n",
       "      <td>50</td>\n",
       "    </tr>\n",
       "    <tr>\n",
       "      <th>$201-400</th>\n",
       "      <td>3928.314217</td>\n",
       "      <td>2406</td>\n",
       "      <td>7.892473</td>\n",
       "      <td>3</td>\n",
       "      <td>73.731581</td>\n",
       "      <td>45</td>\n",
       "      <td>105.420151</td>\n",
       "      <td>67</td>\n",
       "    </tr>\n",
       "    <tr>\n",
       "      <th>$401-800</th>\n",
       "      <td>5220.737008</td>\n",
       "      <td>3004</td>\n",
       "      <td>8.981102</td>\n",
       "      <td>3</td>\n",
       "      <td>72.302362</td>\n",
       "      <td>49</td>\n",
       "      <td>107.455118</td>\n",
       "      <td>77</td>\n",
       "    </tr>\n",
       "    <tr>\n",
       "      <th>$51-100</th>\n",
       "      <td>1524.368729</td>\n",
       "      <td>391</td>\n",
       "      <td>4.830748</td>\n",
       "      <td>2</td>\n",
       "      <td>35.782793</td>\n",
       "      <td>13</td>\n",
       "      <td>56.527504</td>\n",
       "      <td>25</td>\n",
       "    </tr>\n",
       "    <tr>\n",
       "      <th>Above $801</th>\n",
       "      <td>4422.403727</td>\n",
       "      <td>3750</td>\n",
       "      <td>4.677019</td>\n",
       "      <td>3</td>\n",
       "      <td>62.838509</td>\n",
       "      <td>32</td>\n",
       "      <td>83.726708</td>\n",
       "      <td>52</td>\n",
       "    </tr>\n",
       "    <tr>\n",
       "      <th>Below $50</th>\n",
       "      <td>753.235528</td>\n",
       "      <td>105</td>\n",
       "      <td>3.259606</td>\n",
       "      <td>1</td>\n",
       "      <td>20.575307</td>\n",
       "      <td>6</td>\n",
       "      <td>34.934554</td>\n",
       "      <td>13</td>\n",
       "    </tr>\n",
       "  </tbody>\n",
       "</table>\n",
       "</div>"
      ],
      "text/plain": [
       "               bookmarks         dislikes             likes         \\\n",
       "                    mean median      mean median       mean median   \n",
       "price_range                                                          \n",
       "$101-200     2769.002873   1140  6.826662      3  61.536870     30   \n",
       "$201-400     3928.314217   2406  7.892473      3  73.731581     45   \n",
       "$401-800     5220.737008   3004  8.981102      3  72.302362     49   \n",
       "$51-100      1524.368729    391  4.830748      2  35.782793     13   \n",
       "Above $801   4422.403727   3750  4.677019      3  62.838509     32   \n",
       "Below $50     753.235528    105  3.259606      1  20.575307      6   \n",
       "\n",
       "            number_of_reviews         \n",
       "                         mean median  \n",
       "price_range                           \n",
       "$101-200            89.860372     50  \n",
       "$201-400           105.420151     67  \n",
       "$401-800           107.455118     77  \n",
       "$51-100             56.527504     25  \n",
       "Above $801          83.726708     52  \n",
       "Below $50           34.934554     13  "
      ]
     },
     "execution_count": 24,
     "metadata": {},
     "output_type": "execute_result"
    }
   ],
   "source": [
    "gpr"
   ]
  },
  {
   "cell_type": "code",
   "execution_count": 34,
   "metadata": {},
   "outputs": [
    {
     "data": {
      "text/plain": [
       "Text(0,0.5,'likes')"
      ]
     },
     "execution_count": 34,
     "metadata": {},
     "output_type": "execute_result"
    },
    {
     "data": {
      "image/png": "[encoded data removed]",
      "text/plain": [
       "<matplotlib.figure.Figure at 0x1a19db57f0>"
      ]
     },
     "metadata": {},
     "output_type": "display_data"
    }
   ],
   "source": [
    "# amount of likes per 'price_range'\n",
    "fig, axes = plt.subplots(figsize=(13,8))\n",
    "gpr.plot.bar(ax= axes, y='likes')\n",
    "plt.title('likes per price_range')\n",
    "plt.ylabel('likes')"
   ]
  },
  {
   "cell_type": "code",
   "execution_count": 33,
   "metadata": {},
   "outputs": [
    {
     "data": {
      "text/plain": [
       "Text(0,0.5,'bookmarks')"
      ]
     },
     "execution_count": 33,
     "metadata": {},
     "output_type": "execute_result"
    },
    {
     "data": {
      "image/png": "[encoded data removed]",
      "text/plain": [
       "<matplotlib.figure.Figure at 0x1a19fb3f60>"
      ]
     },
     "metadata": {},
     "output_type": "display_data"
    }
   ],
   "source": [
    "# amount of 'bookmarks per price_range'\n",
    "gpr.plot.bar(y='bookmarks')\n",
    "plt.title('bookmarks per price_range')\n",
    "plt.ylabel('bookmarks')"
   ]
  },
  {
   "cell_type": "code",
   "execution_count": 35,
   "metadata": {},
   "outputs": [
    {
     "data": {
      "text/plain": [
       "Text(0.5,1,'overall plot')"
      ]
     },
     "execution_count": 35,
     "metadata": {},
     "output_type": "execute_result"
    },
    {
     "data": {
      "image/png": "[encoded data removed]",
      "text/plain": [
       "<matplotlib.figure.Figure at 0x1a19fe8e48>"
      ]
     },
     "metadata": {},
     "output_type": "display_data"
    }
   ],
   "source": [
    "# gpr bar plot\n",
    "gpr.plot.bar()\n",
    "plt.title('overall plot')"
   ]
  },
  {
   "cell_type": "markdown",
   "metadata": {},
   "source": [
    "** 5.) ** Select price_range, likes, bookmarks,  HKresturant as a new dataframe "
   ]
  },
  {
   "cell_type": "code",
   "execution_count": 258,
   "metadata": {},
   "outputs": [],
   "source": [
    "# %load solutions/openrice_5.py\n"
   ]
  },
  {
   "cell_type": "code",
   "execution_count": 36,
   "metadata": {},
   "outputs": [],
   "source": [
    "# dataframe of only HK restaurants\n",
    "df_hk = df[df['food_type']=='Hong Kong Style'][['food_type','price_range', 'likes','bookmarks']]"
   ]
  },
  {
   "cell_type": "code",
   "execution_count": 37,
   "metadata": {},
   "outputs": [
    {
     "data": {
      "text/html": [
       "<div>\n",
       "<style scoped>\n",
       "    .dataframe tbody tr th:only-of-type {\n",
       "        vertical-align: middle;\n",
       "    }\n",
       "\n",
       "    .dataframe tbody tr th {\n",
       "        vertical-align: top;\n",
       "    }\n",
       "\n",
       "    .dataframe thead th {\n",
       "        text-align: right;\n",
       "    }\n",
       "</style>\n",
       "<table border=\"1\" class=\"dataframe\">\n",
       "  <thead>\n",
       "    <tr style=\"text-align: right;\">\n",
       "      <th></th>\n",
       "      <th>food_type</th>\n",
       "      <th>price_range</th>\n",
       "      <th>likes</th>\n",
       "      <th>bookmarks</th>\n",
       "    </tr>\n",
       "  </thead>\n",
       "  <tbody>\n",
       "    <tr>\n",
       "      <th>0</th>\n",
       "      <td>Hong Kong Style</td>\n",
       "      <td>Below $50</td>\n",
       "      <td>78</td>\n",
       "      <td>5838</td>\n",
       "    </tr>\n",
       "    <tr>\n",
       "      <th>3</th>\n",
       "      <td>Hong Kong Style</td>\n",
       "      <td>Below $50</td>\n",
       "      <td>23</td>\n",
       "      <td>1173</td>\n",
       "    </tr>\n",
       "    <tr>\n",
       "      <th>28</th>\n",
       "      <td>Hong Kong Style</td>\n",
       "      <td>$101-200</td>\n",
       "      <td>3</td>\n",
       "      <td>2752</td>\n",
       "    </tr>\n",
       "    <tr>\n",
       "      <th>30</th>\n",
       "      <td>Hong Kong Style</td>\n",
       "      <td>$101-200</td>\n",
       "      <td>47</td>\n",
       "      <td>2370</td>\n",
       "    </tr>\n",
       "    <tr>\n",
       "      <th>46</th>\n",
       "      <td>Hong Kong Style</td>\n",
       "      <td>$101-200</td>\n",
       "      <td>97</td>\n",
       "      <td>2370</td>\n",
       "    </tr>\n",
       "  </tbody>\n",
       "</table>\n",
       "</div>"
      ],
      "text/plain": [
       "          food_type price_range  likes  bookmarks\n",
       "0   Hong Kong Style   Below $50     78       5838\n",
       "3   Hong Kong Style   Below $50     23       1173\n",
       "28  Hong Kong Style    $101-200      3       2752\n",
       "30  Hong Kong Style    $101-200     47       2370\n",
       "46  Hong Kong Style    $101-200     97       2370"
      ]
     },
     "execution_count": 37,
     "metadata": {},
     "output_type": "execute_result"
    }
   ],
   "source": [
    "df_hk.head()"
   ]
  },
  {
   "cell_type": "markdown",
   "metadata": {},
   "source": [
    "** 6.) ** Use your new dataframe make box plot and violin plots"
   ]
  },
  {
   "cell_type": "code",
   "execution_count": 38,
   "metadata": {},
   "outputs": [
    {
     "data": {
      "text/plain": [
       "Text(0.5,1,'Bookmarks per price_range')"
      ]
     },
     "execution_count": 38,
     "metadata": {},
     "output_type": "execute_result"
    },
    {
     "data": {
      "image/png": "[encoded data removed]",
      "text/plain": [
       "<matplotlib.figure.Figure at 0x1a1a52c438>"
      ]
     },
     "metadata": {},
     "output_type": "display_data"
    }
   ],
   "source": [
    "# box plot of 'bookmarks per price_range'\n",
    "sns.boxplot(x = 'price_range', y= 'bookmarks', data=df_hk)\n",
    "plt.title('Bookmarks per price_range')"
   ]
  },
  {
   "cell_type": "code",
   "execution_count": 40,
   "metadata": {},
   "outputs": [
    {
     "data": {
      "text/plain": [
       "Text(0.5,1,'distributuion of bookmarks by price_range')"
      ]
     },
     "execution_count": 40,
     "metadata": {},
     "output_type": "execute_result"
    },
    {
     "data": {
      "image/png": "[encoded data removed]",
      "text/plain": [
       "<matplotlib.figure.Figure at 0x1a1a73a0b8>"
      ]
     },
     "metadata": {},
     "output_type": "display_data"
    }
   ],
   "source": [
    "sns.violinplot(x ='price_range', y='bookmarks', data= df_hk)\n",
    "plt.title('distributuion of bookmarks by price_range')"
   ]
  },
  {
   "cell_type": "code",
   "execution_count": 227,
   "metadata": {},
   "outputs": [],
   "source": [
    "# %load solutions/openrice_6.1.py\n"
   ]
  },
  {
   "cell_type": "code",
   "execution_count": 43,
   "metadata": {},
   "outputs": [
    {
     "data": {
      "text/plain": [
       "Text(0.5,1,'Likes per price_range')"
      ]
     },
     "execution_count": 43,
     "metadata": {},
     "output_type": "execute_result"
    },
    {
     "data": {
      "image/png": "[encoded data removed]",
      "text/plain": [
       "<matplotlib.figure.Figure at 0x1a1a883f28>"
      ]
     },
     "metadata": {},
     "output_type": "display_data"
    }
   ],
   "source": [
    "# box plot of 'likes by price_range'\n",
    "sns.boxplot(x='price_range', y='likes', data=df_hk)\n",
    "plt.title('Likes per price_range')"
   ]
  },
  {
   "cell_type": "code",
   "execution_count": 42,
   "metadata": {},
   "outputs": [
    {
     "data": {
      "text/plain": [
       "Text(0.5,1,'likes per price_range')"
      ]
     },
     "execution_count": 42,
     "metadata": {},
     "output_type": "execute_result"
    },
    {
     "data": {
      "image/png": "[encoded data removed]",
      "text/plain": [
       "<matplotlib.figure.Figure at 0x1a1a8835f8>"
      ]
     },
     "metadata": {},
     "output_type": "display_data"
    }
   ],
   "source": [
    "# violon plot of 'likes by price_range'\n",
    "sns.violinplot(x='price_range', y='likes', data=df_hk)\n",
    "plt.title('likes per price_range')"
   ]
  },
  {
   "cell_type": "code",
   "execution_count": 229,
   "metadata": {
    "scrolled": true
   },
   "outputs": [],
   "source": [
    "# %load solutions/openrice_6.2.py\n"
   ]
  },
  {
   "cell_type": "markdown",
   "metadata": {},
   "source": [
    "# Unicef Data\n",
    "\n",
    "When working with data we may aberiviate the columns names to make them simpler to type. However we need to be anle to change them back \n"
   ]
  },
  {
   "cell_type": "code",
   "execution_count": 44,
   "metadata": {},
   "outputs": [],
   "source": [
    "import pandas as pd"
   ]
  },
  {
   "cell_type": "code",
   "execution_count": 45,
   "metadata": {},
   "outputs": [
    {
     "name": "stderr",
     "output_type": "stream",
     "text": [
      "/Users/kwf/anaconda3/lib/python3.6/site-packages/IPython/core/interactiveshell.py:2728: DtypeWarning: Columns (110,111,112,120) have mixed types. Specify dtype option on import or set low_memory=False.\n",
      "  interactivity=interactivity, compiler=compiler, result=result)\n"
     ]
    }
   ],
   "source": [
    "# import csv from url\n",
    "unicef = pd.read_csv(\"https://raw.githubusercontent.com/jackiekazil/data-wrangling/master/data/unicef/mn.csv\")"
   ]
  },
  {
   "cell_type": "code",
   "execution_count": 46,
   "metadata": {},
   "outputs": [
    {
     "data": {
      "text/html": [
       "<div>\n",
       "<style scoped>\n",
       "    .dataframe tbody tr th:only-of-type {\n",
       "        vertical-align: middle;\n",
       "    }\n",
       "\n",
       "    .dataframe tbody tr th {\n",
       "        vertical-align: top;\n",
       "    }\n",
       "\n",
       "    .dataframe thead th {\n",
       "        text-align: right;\n",
       "    }\n",
       "</style>\n",
       "<table border=\"1\" class=\"dataframe\">\n",
       "  <thead>\n",
       "    <tr style=\"text-align: right;\">\n",
       "      <th></th>\n",
       "      <th>Unnamed: 0</th>\n",
       "      <th>HH1</th>\n",
       "      <th>HH2</th>\n",
       "      <th>LN</th>\n",
       "      <th>MWM1</th>\n",
       "      <th>MWM2</th>\n",
       "      <th>MWM4</th>\n",
       "      <th>MWM5</th>\n",
       "      <th>MWM6D</th>\n",
       "      <th>MWM6M</th>\n",
       "      <th>...</th>\n",
       "      <th>MCSURV</th>\n",
       "      <th>MCDEAD</th>\n",
       "      <th>mwelevel</th>\n",
       "      <th>mnweight</th>\n",
       "      <th>wscore</th>\n",
       "      <th>windex5</th>\n",
       "      <th>wscoreu</th>\n",
       "      <th>windex5u</th>\n",
       "      <th>wscorer</th>\n",
       "      <th>windex5r</th>\n",
       "    </tr>\n",
       "  </thead>\n",
       "  <tbody>\n",
       "    <tr>\n",
       "      <th>0</th>\n",
       "      <td>1</td>\n",
       "      <td>1</td>\n",
       "      <td>17</td>\n",
       "      <td>1</td>\n",
       "      <td>1</td>\n",
       "      <td>17</td>\n",
       "      <td>1</td>\n",
       "      <td>14</td>\n",
       "      <td>7</td>\n",
       "      <td>4</td>\n",
       "      <td>...</td>\n",
       "      <td>0.0</td>\n",
       "      <td>0.0</td>\n",
       "      <td>Higher</td>\n",
       "      <td>0.403797</td>\n",
       "      <td>1.603670</td>\n",
       "      <td>5</td>\n",
       "      <td>1.272552</td>\n",
       "      <td>5.0</td>\n",
       "      <td>NaN</td>\n",
       "      <td>NaN</td>\n",
       "    </tr>\n",
       "    <tr>\n",
       "      <th>1</th>\n",
       "      <td>2</td>\n",
       "      <td>1</td>\n",
       "      <td>20</td>\n",
       "      <td>1</td>\n",
       "      <td>1</td>\n",
       "      <td>20</td>\n",
       "      <td>1</td>\n",
       "      <td>14</td>\n",
       "      <td>7</td>\n",
       "      <td>4</td>\n",
       "      <td>...</td>\n",
       "      <td>0.0</td>\n",
       "      <td>0.0</td>\n",
       "      <td>Higher</td>\n",
       "      <td>0.403797</td>\n",
       "      <td>1.543277</td>\n",
       "      <td>5</td>\n",
       "      <td>1.089026</td>\n",
       "      <td>5.0</td>\n",
       "      <td>NaN</td>\n",
       "      <td>NaN</td>\n",
       "    </tr>\n",
       "    <tr>\n",
       "      <th>2</th>\n",
       "      <td>3</td>\n",
       "      <td>2</td>\n",
       "      <td>1</td>\n",
       "      <td>1</td>\n",
       "      <td>2</td>\n",
       "      <td>1</td>\n",
       "      <td>1</td>\n",
       "      <td>9</td>\n",
       "      <td>8</td>\n",
       "      <td>4</td>\n",
       "      <td>...</td>\n",
       "      <td>3.0</td>\n",
       "      <td>0.0</td>\n",
       "      <td>Primary</td>\n",
       "      <td>1.031926</td>\n",
       "      <td>0.878635</td>\n",
       "      <td>4</td>\n",
       "      <td>-0.930721</td>\n",
       "      <td>1.0</td>\n",
       "      <td>NaN</td>\n",
       "      <td>NaN</td>\n",
       "    </tr>\n",
       "    <tr>\n",
       "      <th>3</th>\n",
       "      <td>4</td>\n",
       "      <td>2</td>\n",
       "      <td>1</td>\n",
       "      <td>5</td>\n",
       "      <td>2</td>\n",
       "      <td>1</td>\n",
       "      <td>5</td>\n",
       "      <td>9</td>\n",
       "      <td>12</td>\n",
       "      <td>4</td>\n",
       "      <td>...</td>\n",
       "      <td>NaN</td>\n",
       "      <td>NaN</td>\n",
       "      <td>NaN</td>\n",
       "      <td>0.000000</td>\n",
       "      <td>0.000000</td>\n",
       "      <td>0</td>\n",
       "      <td>0.000000</td>\n",
       "      <td>0.0</td>\n",
       "      <td>0.0</td>\n",
       "      <td>0.0</td>\n",
       "    </tr>\n",
       "    <tr>\n",
       "      <th>4</th>\n",
       "      <td>5</td>\n",
       "      <td>2</td>\n",
       "      <td>1</td>\n",
       "      <td>8</td>\n",
       "      <td>2</td>\n",
       "      <td>1</td>\n",
       "      <td>8</td>\n",
       "      <td>9</td>\n",
       "      <td>8</td>\n",
       "      <td>4</td>\n",
       "      <td>...</td>\n",
       "      <td>0.0</td>\n",
       "      <td>0.0</td>\n",
       "      <td>Secondary</td>\n",
       "      <td>1.031926</td>\n",
       "      <td>0.878635</td>\n",
       "      <td>4</td>\n",
       "      <td>-0.930721</td>\n",
       "      <td>1.0</td>\n",
       "      <td>NaN</td>\n",
       "      <td>NaN</td>\n",
       "    </tr>\n",
       "  </tbody>\n",
       "</table>\n",
       "<p>5 rows × 159 columns</p>\n",
       "</div>"
      ],
      "text/plain": [
       "   Unnamed: 0  HH1  HH2  LN  MWM1  MWM2  MWM4  MWM5  MWM6D  MWM6M    ...     \\\n",
       "0           1    1   17   1     1    17     1    14      7      4    ...      \n",
       "1           2    1   20   1     1    20     1    14      7      4    ...      \n",
       "2           3    2    1   1     2     1     1     9      8      4    ...      \n",
       "3           4    2    1   5     2     1     5     9     12      4    ...      \n",
       "4           5    2    1   8     2     1     8     9      8      4    ...      \n",
       "\n",
       "   MCSURV MCDEAD   mwelevel  mnweight    wscore  windex5   wscoreu  windex5u  \\\n",
       "0     0.0    0.0     Higher  0.403797  1.603670        5  1.272552       5.0   \n",
       "1     0.0    0.0     Higher  0.403797  1.543277        5  1.089026       5.0   \n",
       "2     3.0    0.0    Primary  1.031926  0.878635        4 -0.930721       1.0   \n",
       "3     NaN    NaN        NaN  0.000000  0.000000        0  0.000000       0.0   \n",
       "4     0.0    0.0  Secondary  1.031926  0.878635        4 -0.930721       1.0   \n",
       "\n",
       "   wscorer  windex5r  \n",
       "0      NaN       NaN  \n",
       "1      NaN       NaN  \n",
       "2      NaN       NaN  \n",
       "3      0.0       0.0  \n",
       "4      NaN       NaN  \n",
       "\n",
       "[5 rows x 159 columns]"
      ]
     },
     "execution_count": 46,
     "metadata": {},
     "output_type": "execute_result"
    }
   ],
   "source": [
    "unicef.head()"
   ]
  },
  {
   "cell_type": "code",
   "execution_count": 47,
   "metadata": {},
   "outputs": [],
   "source": [
    "# drop unnamed column\n",
    "unicef = unicef.drop(columns=unicef.columns[0])"
   ]
  },
  {
   "cell_type": "markdown",
   "metadata": {},
   "source": [
    " ** 1.) ** Drop the unnamed column"
   ]
  },
  {
   "cell_type": "code",
   "execution_count": 302,
   "metadata": {},
   "outputs": [],
   "source": [
    "# %load solutions/unicef_1.py\n"
   ]
  },
  {
   "cell_type": "markdown",
   "metadata": {},
   "source": [
    "** 2.) ** Use the data in `header_df` to replace the `Name` with it's `Label` in the original dataframe."
   ]
  },
  {
   "cell_type": "code",
   "execution_count": 48,
   "metadata": {},
   "outputs": [],
   "source": [
    "unicef_header = pd.read_csv(\"https://raw.githubusercontent.com/jackiekazil/data-wrangling/master/data/unicef/mn_headers.csv\")"
   ]
  },
  {
   "cell_type": "code",
   "execution_count": 49,
   "metadata": {},
   "outputs": [
    {
     "data": {
      "text/html": [
       "<div>\n",
       "<style scoped>\n",
       "    .dataframe tbody tr th:only-of-type {\n",
       "        vertical-align: middle;\n",
       "    }\n",
       "\n",
       "    .dataframe tbody tr th {\n",
       "        vertical-align: top;\n",
       "    }\n",
       "\n",
       "    .dataframe thead th {\n",
       "        text-align: right;\n",
       "    }\n",
       "</style>\n",
       "<table border=\"1\" class=\"dataframe\">\n",
       "  <thead>\n",
       "    <tr style=\"text-align: right;\">\n",
       "      <th></th>\n",
       "      <th>Name</th>\n",
       "      <th>Label</th>\n",
       "      <th>Question</th>\n",
       "    </tr>\n",
       "  </thead>\n",
       "  <tbody>\n",
       "    <tr>\n",
       "      <th>0</th>\n",
       "      <td>HH1</td>\n",
       "      <td>Cluster number</td>\n",
       "      <td>NaN</td>\n",
       "    </tr>\n",
       "    <tr>\n",
       "      <th>1</th>\n",
       "      <td>HH2</td>\n",
       "      <td>Household number</td>\n",
       "      <td>NaN</td>\n",
       "    </tr>\n",
       "    <tr>\n",
       "      <th>2</th>\n",
       "      <td>LN</td>\n",
       "      <td>Line number</td>\n",
       "      <td>NaN</td>\n",
       "    </tr>\n",
       "    <tr>\n",
       "      <th>3</th>\n",
       "      <td>MWM1</td>\n",
       "      <td>Cluster number</td>\n",
       "      <td>NaN</td>\n",
       "    </tr>\n",
       "    <tr>\n",
       "      <th>4</th>\n",
       "      <td>MWM2</td>\n",
       "      <td>Household number</td>\n",
       "      <td>NaN</td>\n",
       "    </tr>\n",
       "  </tbody>\n",
       "</table>\n",
       "</div>"
      ],
      "text/plain": [
       "   Name             Label Question\n",
       "0   HH1    Cluster number      NaN\n",
       "1   HH2  Household number      NaN\n",
       "2    LN       Line number      NaN\n",
       "3  MWM1    Cluster number      NaN\n",
       "4  MWM2  Household number      NaN"
      ]
     },
     "execution_count": 49,
     "metadata": {},
     "output_type": "execute_result"
    }
   ],
   "source": [
    "unicef_header.head()"
   ]
  },
  {
   "cell_type": "code",
   "execution_count": 50,
   "metadata": {},
   "outputs": [],
   "source": [
    "col_labels = dict(zip(unicef_header['Name'], unicef_header['Label']))"
   ]
  },
  {
   "cell_type": "code",
   "execution_count": 56,
   "metadata": {},
   "outputs": [],
   "source": [
    "# renaming unicef columns with proper labels\n",
    "unicef = unicef.rename(columns=col_labels).head()"
   ]
  },
  {
   "cell_type": "code",
   "execution_count": 52,
   "metadata": {},
   "outputs": [],
   "source": [
    "# %load solutions/unicef_2.py\n"
   ]
  },
  {
   "cell_type": "code",
   "execution_count": 57,
   "metadata": {},
   "outputs": [
    {
     "data": {
      "text/html": [
       "<div>\n",
       "<style scoped>\n",
       "    .dataframe tbody tr th:only-of-type {\n",
       "        vertical-align: middle;\n",
       "    }\n",
       "\n",
       "    .dataframe tbody tr th {\n",
       "        vertical-align: top;\n",
       "    }\n",
       "\n",
       "    .dataframe thead th {\n",
       "        text-align: right;\n",
       "    }\n",
       "</style>\n",
       "<table border=\"1\" class=\"dataframe\">\n",
       "  <thead>\n",
       "    <tr style=\"text-align: right;\">\n",
       "      <th></th>\n",
       "      <th>Cluster number</th>\n",
       "      <th>Household number</th>\n",
       "      <th>Line number</th>\n",
       "      <th>Cluster number</th>\n",
       "      <th>Household number</th>\n",
       "      <th>Man's line number</th>\n",
       "      <th>Interviewer number</th>\n",
       "      <th>Day of interview</th>\n",
       "      <th>Month of interview</th>\n",
       "      <th>Year of interview</th>\n",
       "      <th>...</th>\n",
       "      <th>Children surviving</th>\n",
       "      <th>Children dead</th>\n",
       "      <th>mwelevel</th>\n",
       "      <th>mnweight</th>\n",
       "      <th>Wealth index score</th>\n",
       "      <th>Wealth index quintiles</th>\n",
       "      <th>wscoreu</th>\n",
       "      <th>windex5u</th>\n",
       "      <th>wscorer</th>\n",
       "      <th>windex5r</th>\n",
       "    </tr>\n",
       "  </thead>\n",
       "  <tbody>\n",
       "    <tr>\n",
       "      <th>0</th>\n",
       "      <td>1</td>\n",
       "      <td>17</td>\n",
       "      <td>1</td>\n",
       "      <td>1</td>\n",
       "      <td>17</td>\n",
       "      <td>1</td>\n",
       "      <td>14</td>\n",
       "      <td>7</td>\n",
       "      <td>4</td>\n",
       "      <td>2014</td>\n",
       "      <td>...</td>\n",
       "      <td>0.0</td>\n",
       "      <td>0.0</td>\n",
       "      <td>Higher</td>\n",
       "      <td>0.403797</td>\n",
       "      <td>1.603670</td>\n",
       "      <td>5</td>\n",
       "      <td>1.272552</td>\n",
       "      <td>5.0</td>\n",
       "      <td>NaN</td>\n",
       "      <td>NaN</td>\n",
       "    </tr>\n",
       "    <tr>\n",
       "      <th>1</th>\n",
       "      <td>1</td>\n",
       "      <td>20</td>\n",
       "      <td>1</td>\n",
       "      <td>1</td>\n",
       "      <td>20</td>\n",
       "      <td>1</td>\n",
       "      <td>14</td>\n",
       "      <td>7</td>\n",
       "      <td>4</td>\n",
       "      <td>2014</td>\n",
       "      <td>...</td>\n",
       "      <td>0.0</td>\n",
       "      <td>0.0</td>\n",
       "      <td>Higher</td>\n",
       "      <td>0.403797</td>\n",
       "      <td>1.543277</td>\n",
       "      <td>5</td>\n",
       "      <td>1.089026</td>\n",
       "      <td>5.0</td>\n",
       "      <td>NaN</td>\n",
       "      <td>NaN</td>\n",
       "    </tr>\n",
       "    <tr>\n",
       "      <th>2</th>\n",
       "      <td>2</td>\n",
       "      <td>1</td>\n",
       "      <td>1</td>\n",
       "      <td>2</td>\n",
       "      <td>1</td>\n",
       "      <td>1</td>\n",
       "      <td>9</td>\n",
       "      <td>8</td>\n",
       "      <td>4</td>\n",
       "      <td>2014</td>\n",
       "      <td>...</td>\n",
       "      <td>3.0</td>\n",
       "      <td>0.0</td>\n",
       "      <td>Primary</td>\n",
       "      <td>1.031926</td>\n",
       "      <td>0.878635</td>\n",
       "      <td>4</td>\n",
       "      <td>-0.930721</td>\n",
       "      <td>1.0</td>\n",
       "      <td>NaN</td>\n",
       "      <td>NaN</td>\n",
       "    </tr>\n",
       "    <tr>\n",
       "      <th>3</th>\n",
       "      <td>2</td>\n",
       "      <td>1</td>\n",
       "      <td>5</td>\n",
       "      <td>2</td>\n",
       "      <td>1</td>\n",
       "      <td>5</td>\n",
       "      <td>9</td>\n",
       "      <td>12</td>\n",
       "      <td>4</td>\n",
       "      <td>2014</td>\n",
       "      <td>...</td>\n",
       "      <td>NaN</td>\n",
       "      <td>NaN</td>\n",
       "      <td>NaN</td>\n",
       "      <td>0.000000</td>\n",
       "      <td>0.000000</td>\n",
       "      <td>0</td>\n",
       "      <td>0.000000</td>\n",
       "      <td>0.0</td>\n",
       "      <td>0.0</td>\n",
       "      <td>0.0</td>\n",
       "    </tr>\n",
       "    <tr>\n",
       "      <th>4</th>\n",
       "      <td>2</td>\n",
       "      <td>1</td>\n",
       "      <td>8</td>\n",
       "      <td>2</td>\n",
       "      <td>1</td>\n",
       "      <td>8</td>\n",
       "      <td>9</td>\n",
       "      <td>8</td>\n",
       "      <td>4</td>\n",
       "      <td>2014</td>\n",
       "      <td>...</td>\n",
       "      <td>0.0</td>\n",
       "      <td>0.0</td>\n",
       "      <td>Secondary</td>\n",
       "      <td>1.031926</td>\n",
       "      <td>0.878635</td>\n",
       "      <td>4</td>\n",
       "      <td>-0.930721</td>\n",
       "      <td>1.0</td>\n",
       "      <td>NaN</td>\n",
       "      <td>NaN</td>\n",
       "    </tr>\n",
       "  </tbody>\n",
       "</table>\n",
       "<p>5 rows × 158 columns</p>\n",
       "</div>"
      ],
      "text/plain": [
       "   Cluster number  Household number  Line number  Cluster number  \\\n",
       "0               1                17            1               1   \n",
       "1               1                20            1               1   \n",
       "2               2                 1            1               2   \n",
       "3               2                 1            5               2   \n",
       "4               2                 1            8               2   \n",
       "\n",
       "   Household number  Man's line number  Interviewer number  Day of interview  \\\n",
       "0                17                  1                  14                 7   \n",
       "1                20                  1                  14                 7   \n",
       "2                 1                  1                   9                 8   \n",
       "3                 1                  5                   9                12   \n",
       "4                 1                  8                   9                 8   \n",
       "\n",
       "   Month of interview  Year of interview    ...    Children surviving  \\\n",
       "0                   4               2014    ...                   0.0   \n",
       "1                   4               2014    ...                   0.0   \n",
       "2                   4               2014    ...                   3.0   \n",
       "3                   4               2014    ...                   NaN   \n",
       "4                   4               2014    ...                   0.0   \n",
       "\n",
       "   Children dead   mwelevel  mnweight  Wealth index score  \\\n",
       "0            0.0     Higher  0.403797            1.603670   \n",
       "1            0.0     Higher  0.403797            1.543277   \n",
       "2            0.0    Primary  1.031926            0.878635   \n",
       "3            NaN        NaN  0.000000            0.000000   \n",
       "4            0.0  Secondary  1.031926            0.878635   \n",
       "\n",
       "   Wealth index quintiles   wscoreu  windex5u  wscorer  windex5r  \n",
       "0                       5  1.272552       5.0      NaN       NaN  \n",
       "1                       5  1.089026       5.0      NaN       NaN  \n",
       "2                       4 -0.930721       1.0      NaN       NaN  \n",
       "3                       0  0.000000       0.0      0.0       0.0  \n",
       "4                       4 -0.930721       1.0      NaN       NaN  \n",
       "\n",
       "[5 rows x 158 columns]"
      ]
     },
     "execution_count": 57,
     "metadata": {},
     "output_type": "execute_result"
    }
   ],
   "source": [
    "unicef.head()"
   ]
  },
  {
   "cell_type": "code",
   "execution_count": 61,
   "metadata": {},
   "outputs": [
    {
     "data": {
      "text/plain": [
       "Index(['Cluster number', 'Household number', 'Line number', 'Cluster number',\n",
       "       'Household number', 'Man's line number', 'Interviewer number',\n",
       "       'Day of interview', 'Month of interview', 'Year of interview',\n",
       "       ...\n",
       "       'Children surviving', 'Children dead', 'mwelevel', 'mnweight',\n",
       "       'Wealth index score', 'Wealth index quintiles', 'wscoreu', 'windex5u',\n",
       "       'wscorer', 'windex5r'],\n",
       "      dtype='object', length=158)"
      ]
     },
     "execution_count": 61,
     "metadata": {},
     "output_type": "execute_result"
    }
   ],
   "source": [
    "unicef.columns"
   ]
  },
  {
   "cell_type": "markdown",
   "metadata": {},
   "source": [
    "# Ricacorp\n",
    "\n",
    "** 1.) ** Reading in the file. *Hint*  Which type of format it is? Also you'll need to change the encoding to 'utf-16'."
   ]
  },
  {
   "cell_type": "code",
   "execution_count": 64,
   "metadata": {},
   "outputs": [],
   "source": [
    "# import data \n",
    "rc = pd.read_csv('data/ricacorp-real-estate-sales.tsv', sep='\\t', encoding='utf-16')"
   ]
  },
  {
   "cell_type": "code",
   "execution_count": 65,
   "metadata": {},
   "outputs": [
    {
     "data": {
      "text/html": [
       "<div>\n",
       "<style scoped>\n",
       "    .dataframe tbody tr th:only-of-type {\n",
       "        vertical-align: middle;\n",
       "    }\n",
       "\n",
       "    .dataframe tbody tr th {\n",
       "        vertical-align: top;\n",
       "    }\n",
       "\n",
       "    .dataframe thead th {\n",
       "        text-align: right;\n",
       "    }\n",
       "</style>\n",
       "<table border=\"1\" class=\"dataframe\">\n",
       "  <thead>\n",
       "    <tr style=\"text-align: right;\">\n",
       "      <th></th>\n",
       "      <th>Area</th>\n",
       "      <th>web-scraper-order</th>\n",
       "      <th>web-scraper-start-url</th>\n",
       "      <th>pagination</th>\n",
       "      <th>pagination-href</th>\n",
       "      <th>characteristic</th>\n",
       "      <th>floor type</th>\n",
       "      <th>hkd millions</th>\n",
       "      <th>rent hkd</th>\n",
       "      <th>area</th>\n",
       "      <th>address</th>\n",
       "      <th>last updated</th>\n",
       "      <th>pay per month</th>\n",
       "      <th>loan %</th>\n",
       "      <th>1st payment</th>\n",
       "    </tr>\n",
       "  </thead>\n",
       "  <tbody>\n",
       "    <tr>\n",
       "      <th>0</th>\n",
       "      <td>Kowloon</td>\n",
       "      <td>1521007907-3932</td>\n",
       "      <td>http://www.ricacorp.com/rcproperty/search/d~s~...</td>\n",
       "      <td>Next</td>\n",
       "      <td>http://www.ricacorp.com/rcproperty/search/d~s~...</td>\n",
       "      <td>Quiet &amp; Boutique Living, Unrivalled Luxury</td>\n",
       "      <td>High Floor Zone (Flat 3)</td>\n",
       "      <td>26.50</td>\n",
       "      <td>NaN</td>\n",
       "      <td>Area :\\n1,137Ft ($23.3k/Ft)</td>\n",
       "      <td>Kowloon Tong/Beacon Hill Flat 3 Block A Penins...</td>\n",
       "      <td>Last Updated : 21-02-2018</td>\n",
       "      <td>Pay/M︰$70.2k</td>\n",
       "      <td>Loan%︰50%</td>\n",
       "      <td>1st Pay︰$13.25M</td>\n",
       "    </tr>\n",
       "    <tr>\n",
       "      <th>1</th>\n",
       "      <td>Kowloon</td>\n",
       "      <td>1521007147-2665</td>\n",
       "      <td>http://www.ricacorp.com/rcproperty/search/d~s~...</td>\n",
       "      <td>Next</td>\n",
       "      <td>http://www.ricacorp.com/rcproperty/search/d~s~...</td>\n",
       "      <td>Invite Offers, For Sale &amp; For Lease</td>\n",
       "      <td>High Floor Zone (Flat -)                      ...</td>\n",
       "      <td>7.50</td>\n",
       "      <td>Rent $17k\\n                                   ...</td>\n",
       "      <td>Area :\\n485Ft ($15.4k/Ft)</td>\n",
       "      <td>Cheung Sha Wan West Flat - Tower 1 Phase 2 The...</td>\n",
       "      <td>Last Updated : 23-02-2018</td>\n",
       "      <td>Pay/M︰$23.8k</td>\n",
       "      <td>Loan%︰60%</td>\n",
       "      <td>1st Pay︰$3M</td>\n",
       "    </tr>\n",
       "    <tr>\n",
       "      <th>2</th>\n",
       "      <td>Kowloon</td>\n",
       "      <td>1521006995-2269</td>\n",
       "      <td>http://www.ricacorp.com/rcproperty/search/d~s~...</td>\n",
       "      <td>Next</td>\n",
       "      <td>http://www.ricacorp.com/rcproperty/search/d~s~...</td>\n",
       "      <td>Spacious Rooms, High Privacy</td>\n",
       "      <td>Low Floor Zone (Flat E)                       ...</td>\n",
       "      <td>18.00</td>\n",
       "      <td>Rent $40k\\n                                   ...</td>\n",
       "      <td>Area :\\n794Ft ($22.6k/Ft)</td>\n",
       "      <td>Kowloon Station Flat E Tower 2 Phase 1 The Wat...</td>\n",
       "      <td>Last Updated : 13-03-2018</td>\n",
       "      <td>Pay/M︰$47.6k</td>\n",
       "      <td>Loan%︰50%</td>\n",
       "      <td>1st Pay︰$9M</td>\n",
       "    </tr>\n",
       "    <tr>\n",
       "      <th>3</th>\n",
       "      <td>Kowloon</td>\n",
       "      <td>1521008121-4522</td>\n",
       "      <td>http://www.ricacorp.com/rcproperty/search/d~s~...</td>\n",
       "      <td>Next</td>\n",
       "      <td>http://www.ricacorp.com/rcproperty/search/d~s~...</td>\n",
       "      <td>Good Layout &amp; Efficient, Unrepeatable Opportunity</td>\n",
       "      <td>Low Floor Zone (Flat -)                       ...</td>\n",
       "      <td>13.98</td>\n",
       "      <td>NaN</td>\n",
       "      <td>Area :\\n971Ft ($14.3k/Ft)</td>\n",
       "      <td>Cheung Sha Wan West Flat - Tower 2 One West Ko...</td>\n",
       "      <td>Last Updated : 22-02-2018</td>\n",
       "      <td>Pay/M︰$37k</td>\n",
       "      <td>Loan%︰50%</td>\n",
       "      <td>1st Pay︰$6.99M</td>\n",
       "    </tr>\n",
       "    <tr>\n",
       "      <th>4</th>\n",
       "      <td>Kowloon</td>\n",
       "      <td>1521006897-2016</td>\n",
       "      <td>http://www.ricacorp.com/rcproperty/search/d~s~...</td>\n",
       "      <td>Next</td>\n",
       "      <td>http://www.ricacorp.com/rcproperty/search/d~s~...</td>\n",
       "      <td>Spacious Rooms, Tranquil Garden View</td>\n",
       "      <td>Low Floor Zone (Flat AB)                      ...</td>\n",
       "      <td>25.00</td>\n",
       "      <td>NaN</td>\n",
       "      <td>Area :\\n1,502Ft ($16.6k/Ft)</td>\n",
       "      <td>Whampoa/Laguna Verde Flat AB Tower 10 Phase 2 ...</td>\n",
       "      <td>Last Updated : 13-03-2018</td>\n",
       "      <td>Pay/M︰$66.2k</td>\n",
       "      <td>Loan%︰50%</td>\n",
       "      <td>1st Pay︰$12.5M</td>\n",
       "    </tr>\n",
       "  </tbody>\n",
       "</table>\n",
       "</div>"
      ],
      "text/plain": [
       "      Area web-scraper-order  \\\n",
       "0  Kowloon   1521007907-3932   \n",
       "1  Kowloon   1521007147-2665   \n",
       "2  Kowloon   1521006995-2269   \n",
       "3  Kowloon   1521008121-4522   \n",
       "4  Kowloon   1521006897-2016   \n",
       "\n",
       "                               web-scraper-start-url pagination  \\\n",
       "0  http://www.ricacorp.com/rcproperty/search/d~s~...       Next   \n",
       "1  http://www.ricacorp.com/rcproperty/search/d~s~...       Next   \n",
       "2  http://www.ricacorp.com/rcproperty/search/d~s~...       Next   \n",
       "3  http://www.ricacorp.com/rcproperty/search/d~s~...       Next   \n",
       "4  http://www.ricacorp.com/rcproperty/search/d~s~...       Next   \n",
       "\n",
       "                                     pagination-href  \\\n",
       "0  http://www.ricacorp.com/rcproperty/search/d~s~...   \n",
       "1  http://www.ricacorp.com/rcproperty/search/d~s~...   \n",
       "2  http://www.ricacorp.com/rcproperty/search/d~s~...   \n",
       "3  http://www.ricacorp.com/rcproperty/search/d~s~...   \n",
       "4  http://www.ricacorp.com/rcproperty/search/d~s~...   \n",
       "\n",
       "                                      characteristic  \\\n",
       "0         Quiet & Boutique Living, Unrivalled Luxury   \n",
       "1                Invite Offers, For Sale & For Lease   \n",
       "2                       Spacious Rooms, High Privacy   \n",
       "3  Good Layout & Efficient, Unrepeatable Opportunity   \n",
       "4               Spacious Rooms, Tranquil Garden View   \n",
       "\n",
       "                                          floor type  hkd millions  \\\n",
       "0                           High Floor Zone (Flat 3)         26.50   \n",
       "1  High Floor Zone (Flat -)                      ...          7.50   \n",
       "2  Low Floor Zone (Flat E)                       ...         18.00   \n",
       "3  Low Floor Zone (Flat -)                       ...         13.98   \n",
       "4  Low Floor Zone (Flat AB)                      ...         25.00   \n",
       "\n",
       "                                            rent hkd  \\\n",
       "0                                                NaN   \n",
       "1  Rent $17k\\n                                   ...   \n",
       "2  Rent $40k\\n                                   ...   \n",
       "3                                                NaN   \n",
       "4                                                NaN   \n",
       "\n",
       "                          area  \\\n",
       "0  Area :\\n1,137Ft ($23.3k/Ft)   \n",
       "1    Area :\\n485Ft ($15.4k/Ft)   \n",
       "2    Area :\\n794Ft ($22.6k/Ft)   \n",
       "3    Area :\\n971Ft ($14.3k/Ft)   \n",
       "4  Area :\\n1,502Ft ($16.6k/Ft)   \n",
       "\n",
       "                                             address  \\\n",
       "0  Kowloon Tong/Beacon Hill Flat 3 Block A Penins...   \n",
       "1  Cheung Sha Wan West Flat - Tower 1 Phase 2 The...   \n",
       "2  Kowloon Station Flat E Tower 2 Phase 1 The Wat...   \n",
       "3  Cheung Sha Wan West Flat - Tower 2 One West Ko...   \n",
       "4  Whampoa/Laguna Verde Flat AB Tower 10 Phase 2 ...   \n",
       "\n",
       "                last updated pay per month     loan %      1st payment  \n",
       "0  Last Updated : 21-02-2018  Pay/M︰$70.2k  Loan%︰50%  1st Pay︰$13.25M  \n",
       "1  Last Updated : 23-02-2018  Pay/M︰$23.8k  Loan%︰60%      1st Pay︰$3M  \n",
       "2  Last Updated : 13-03-2018  Pay/M︰$47.6k  Loan%︰50%      1st Pay︰$9M  \n",
       "3  Last Updated : 22-02-2018    Pay/M︰$37k  Loan%︰50%   1st Pay︰$6.99M  \n",
       "4  Last Updated : 13-03-2018  Pay/M︰$66.2k  Loan%︰50%   1st Pay︰$12.5M  "
      ]
     },
     "execution_count": 65,
     "metadata": {},
     "output_type": "execute_result"
    }
   ],
   "source": [
    "rc.head()"
   ]
  },
  {
   "cell_type": "code",
   "execution_count": 277,
   "metadata": {},
   "outputs": [],
   "source": [
    "import pandas as pd"
   ]
  },
  {
   "cell_type": "code",
   "execution_count": 278,
   "metadata": {},
   "outputs": [],
   "source": [
    "# %load solutions/ricacorp_1.py\n"
   ]
  },
  {
   "cell_type": "markdown",
   "metadata": {},
   "source": [
    "** 2.) ** Remove the useless columns like web-scraper-order, pagination etc."
   ]
  },
  {
   "cell_type": "code",
   "execution_count": 66,
   "metadata": {},
   "outputs": [
    {
     "data": {
      "text/plain": [
       "Index(['Area', 'web-scraper-order', 'web-scraper-start-url', 'pagination',\n",
       "       'pagination-href', 'characteristic', 'floor type', 'hkd millions',\n",
       "       'rent hkd', 'area', 'address', 'last updated', 'pay per month',\n",
       "       'loan %', '1st payment'],\n",
       "      dtype='object')"
      ]
     },
     "execution_count": 66,
     "metadata": {},
     "output_type": "execute_result"
    }
   ],
   "source": [
    "rc.columns"
   ]
  },
  {
   "cell_type": "code",
   "execution_count": 67,
   "metadata": {},
   "outputs": [],
   "source": [
    "drop_col = ['web-scraper-order', 'web-scraper-start-url', 'pagination',\n",
    "       'pagination-href']"
   ]
  },
  {
   "cell_type": "code",
   "execution_count": 68,
   "metadata": {},
   "outputs": [],
   "source": [
    "rc = rc.drop(columns= drop_col)"
   ]
  },
  {
   "cell_type": "code",
   "execution_count": 69,
   "metadata": {},
   "outputs": [],
   "source": [
    "rc = rc.drop_duplicates()"
   ]
  },
  {
   "cell_type": "code",
   "execution_count": 279,
   "metadata": {},
   "outputs": [],
   "source": [
    "# %load solutions/ricacorp_2.py\n"
   ]
  },
  {
   "cell_type": "code",
   "execution_count": 70,
   "metadata": {},
   "outputs": [
    {
     "data": {
      "text/plain": [
       "rent hkd          7481\n",
       "characteristic    2002\n",
       "floor type         341\n",
       "1st payment          0\n",
       "loan %               0\n",
       "pay per month        0\n",
       "last updated         0\n",
       "address              0\n",
       "area                 0\n",
       "hkd millions         0\n",
       "Area                 0\n",
       "dtype: int64"
      ]
     },
     "execution_count": 70,
     "metadata": {},
     "output_type": "execute_result"
    }
   ],
   "source": [
    "rc.isnull().sum().sort_values(ascending=False)"
   ]
  },
  {
   "cell_type": "code",
   "execution_count": 71,
   "metadata": {},
   "outputs": [],
   "source": [
    "# fill numerical category NaN values\n",
    "rc['rent hkd'] = rc['rent hkd'].fillna(value=0)"
   ]
  },
  {
   "cell_type": "code",
   "execution_count": 72,
   "metadata": {},
   "outputs": [],
   "source": [
    "# function to clean 'pay per month' values to floats\n",
    "def ppm(s):\n",
    "    \n",
    "    p = re.search(r\"(Pay/M.*\\$)(\\d+\\.*\\d+)k\", s)\n",
    "    if p:\n",
    "        return float(p.group(2))\n",
    "    return np.nan"
   ]
  },
  {
   "cell_type": "code",
   "execution_count": 73,
   "metadata": {},
   "outputs": [],
   "source": [
    "rc['pay per month'] = rc['pay per month'].apply(ppm)"
   ]
  },
  {
   "cell_type": "code",
   "execution_count": 74,
   "metadata": {},
   "outputs": [],
   "source": [
    "# changing column name\n",
    "rc = rc.rename(columns={'pay per month': 'pay per month (k)'})"
   ]
  },
  {
   "cell_type": "code",
   "execution_count": 75,
   "metadata": {},
   "outputs": [],
   "source": [
    "# cleaning 'loan %'\n",
    "def loan(s):\n",
    "    \n",
    "    l = re.search(r\"(Loan%.*\\D)(\\d+)(\\%)\", s)\n",
    "    if l:\n",
    "        return float(l.group(2))\n",
    "    return np.nan"
   ]
  },
  {
   "cell_type": "code",
   "execution_count": 78,
   "metadata": {},
   "outputs": [],
   "source": [
    "rc['loan %'] = rc['loan %'].apply(loan)"
   ]
  },
  {
   "cell_type": "code",
   "execution_count": 77,
   "metadata": {},
   "outputs": [],
   "source": [
    "# cleaning '1st payment'\n",
    "def payment(s):\n",
    "    \n",
    "    p = re.search(r\"(1st Pay.*\\$)(\\d+.*)([MK])\", s)\n",
    "    if p:\n",
    "        if p.group(3) == \"k\":\n",
    "            return float(p.group(2)) * 1000\n",
    "        else:\n",
    "            return float(p.group(2))\n",
    "    return np.nan"
   ]
  },
  {
   "cell_type": "code",
   "execution_count": 79,
   "metadata": {},
   "outputs": [],
   "source": [
    "rc['1st payment'] = rc['1st payment'].apply(payment)"
   ]
  },
  {
   "cell_type": "code",
   "execution_count": 80,
   "metadata": {},
   "outputs": [],
   "source": [
    "# rename column to denote values represent millions\n",
    "rc = rc.rename(columns={'1st payment': '1st payment (M)'})"
   ]
  },
  {
   "cell_type": "code",
   "execution_count": 81,
   "metadata": {},
   "outputs": [],
   "source": [
    "# splitting 'area' column into 'area sq ft' and 'price per ft'\n",
    "rc_a = rc['area'].str.split('Ft',1, expand=True)"
   ]
  },
  {
   "cell_type": "code",
   "execution_count": 82,
   "metadata": {},
   "outputs": [],
   "source": [
    "rc_a.rename(columns={0:'area sq ft', 1:'price per ft'}, inplace=True)"
   ]
  },
  {
   "cell_type": "code",
   "execution_count": 83,
   "metadata": {},
   "outputs": [],
   "source": [
    "# concat to original df\n",
    "rc = pd.concat([rc, rc_a], axis =1)"
   ]
  },
  {
   "cell_type": "code",
   "execution_count": 84,
   "metadata": {},
   "outputs": [],
   "source": [
    "# drop old 'area' column\n",
    "rc.drop(columns='area', inplace=True)"
   ]
  },
  {
   "cell_type": "code",
   "execution_count": 85,
   "metadata": {},
   "outputs": [],
   "source": [
    "# cleaning 'area' column\n",
    "def area(s):\n",
    "    b = re.sub(r\"\\D\",\"\",s)\n",
    "    if b:\n",
    "        return b\n",
    "    return np.nan"
   ]
  },
  {
   "cell_type": "code",
   "execution_count": 86,
   "metadata": {},
   "outputs": [],
   "source": [
    "rc['area sq ft'] = rc['area sq ft'].apply(area)"
   ]
  },
  {
   "cell_type": "code",
   "execution_count": 87,
   "metadata": {},
   "outputs": [],
   "source": [
    "rc['area sq ft'] = rc['area sq ft'].astype('float64')"
   ]
  },
  {
   "cell_type": "code",
   "execution_count": 88,
   "metadata": {},
   "outputs": [
    {
     "data": {
      "text/plain": [
       "Area                  object\n",
       "characteristic        object\n",
       "floor type            object\n",
       "hkd millions         float64\n",
       "rent hkd              object\n",
       "address               object\n",
       "last updated          object\n",
       "pay per month (k)    float64\n",
       "loan %               float64\n",
       "1st payment (M)      float64\n",
       "area sq ft           float64\n",
       "price per ft          object\n",
       "dtype: object"
      ]
     },
     "execution_count": 88,
     "metadata": {},
     "output_type": "execute_result"
    }
   ],
   "source": [
    "rc.dtypes"
   ]
  },
  {
   "cell_type": "code",
   "execution_count": 89,
   "metadata": {},
   "outputs": [],
   "source": [
    "# cleaning 'price per ft' column\n",
    "def pft(s):\n",
    "    \n",
    "    p = re.search(r\"\\(\\$(\\d+.*\\d+)(k)\\/Ft\\)\", s)\n",
    "    if p:\n",
    "        if p.group(2) == 'k':\n",
    "            return float(p.group(1)) * 1000\n",
    "    return np.nan"
   ]
  },
  {
   "cell_type": "code",
   "execution_count": 90,
   "metadata": {},
   "outputs": [],
   "source": [
    "rc['price per ft'] = rc['price per ft'].apply(pft)"
   ]
  },
  {
   "cell_type": "code",
   "execution_count": 91,
   "metadata": {},
   "outputs": [
    {
     "data": {
      "text/html": [
       "<div>\n",
       "<style scoped>\n",
       "    .dataframe tbody tr th:only-of-type {\n",
       "        vertical-align: middle;\n",
       "    }\n",
       "\n",
       "    .dataframe tbody tr th {\n",
       "        vertical-align: top;\n",
       "    }\n",
       "\n",
       "    .dataframe thead th {\n",
       "        text-align: right;\n",
       "    }\n",
       "</style>\n",
       "<table border=\"1\" class=\"dataframe\">\n",
       "  <thead>\n",
       "    <tr style=\"text-align: right;\">\n",
       "      <th></th>\n",
       "      <th>Area</th>\n",
       "      <th>characteristic</th>\n",
       "      <th>floor type</th>\n",
       "      <th>hkd millions</th>\n",
       "      <th>rent hkd</th>\n",
       "      <th>address</th>\n",
       "      <th>last updated</th>\n",
       "      <th>pay per month (k)</th>\n",
       "      <th>loan %</th>\n",
       "      <th>1st payment (M)</th>\n",
       "      <th>area sq ft</th>\n",
       "      <th>price per ft</th>\n",
       "    </tr>\n",
       "  </thead>\n",
       "  <tbody>\n",
       "    <tr>\n",
       "      <th>0</th>\n",
       "      <td>Kowloon</td>\n",
       "      <td>Quiet &amp; Boutique Living, Unrivalled Luxury</td>\n",
       "      <td>High Floor Zone (Flat 3)</td>\n",
       "      <td>26.50</td>\n",
       "      <td>0</td>\n",
       "      <td>Kowloon Tong/Beacon Hill Flat 3 Block A Penins...</td>\n",
       "      <td>Last Updated : 21-02-2018</td>\n",
       "      <td>70.2</td>\n",
       "      <td>50.0</td>\n",
       "      <td>13.25</td>\n",
       "      <td>1137.0</td>\n",
       "      <td>23300.0</td>\n",
       "    </tr>\n",
       "    <tr>\n",
       "      <th>1</th>\n",
       "      <td>Kowloon</td>\n",
       "      <td>Invite Offers, For Sale &amp; For Lease</td>\n",
       "      <td>High Floor Zone (Flat -)                      ...</td>\n",
       "      <td>7.50</td>\n",
       "      <td>Rent $17k\\n                                   ...</td>\n",
       "      <td>Cheung Sha Wan West Flat - Tower 1 Phase 2 The...</td>\n",
       "      <td>Last Updated : 23-02-2018</td>\n",
       "      <td>23.8</td>\n",
       "      <td>60.0</td>\n",
       "      <td>3.00</td>\n",
       "      <td>485.0</td>\n",
       "      <td>15400.0</td>\n",
       "    </tr>\n",
       "    <tr>\n",
       "      <th>2</th>\n",
       "      <td>Kowloon</td>\n",
       "      <td>Spacious Rooms, High Privacy</td>\n",
       "      <td>Low Floor Zone (Flat E)                       ...</td>\n",
       "      <td>18.00</td>\n",
       "      <td>Rent $40k\\n                                   ...</td>\n",
       "      <td>Kowloon Station Flat E Tower 2 Phase 1 The Wat...</td>\n",
       "      <td>Last Updated : 13-03-2018</td>\n",
       "      <td>47.6</td>\n",
       "      <td>50.0</td>\n",
       "      <td>9.00</td>\n",
       "      <td>794.0</td>\n",
       "      <td>22600.0</td>\n",
       "    </tr>\n",
       "    <tr>\n",
       "      <th>3</th>\n",
       "      <td>Kowloon</td>\n",
       "      <td>Good Layout &amp; Efficient, Unrepeatable Opportunity</td>\n",
       "      <td>Low Floor Zone (Flat -)                       ...</td>\n",
       "      <td>13.98</td>\n",
       "      <td>0</td>\n",
       "      <td>Cheung Sha Wan West Flat - Tower 2 One West Ko...</td>\n",
       "      <td>Last Updated : 22-02-2018</td>\n",
       "      <td>37.0</td>\n",
       "      <td>50.0</td>\n",
       "      <td>6.99</td>\n",
       "      <td>971.0</td>\n",
       "      <td>14300.0</td>\n",
       "    </tr>\n",
       "    <tr>\n",
       "      <th>4</th>\n",
       "      <td>Kowloon</td>\n",
       "      <td>Spacious Rooms, Tranquil Garden View</td>\n",
       "      <td>Low Floor Zone (Flat AB)                      ...</td>\n",
       "      <td>25.00</td>\n",
       "      <td>0</td>\n",
       "      <td>Whampoa/Laguna Verde Flat AB Tower 10 Phase 2 ...</td>\n",
       "      <td>Last Updated : 13-03-2018</td>\n",
       "      <td>66.2</td>\n",
       "      <td>50.0</td>\n",
       "      <td>12.50</td>\n",
       "      <td>1502.0</td>\n",
       "      <td>16600.0</td>\n",
       "    </tr>\n",
       "  </tbody>\n",
       "</table>\n",
       "</div>"
      ],
      "text/plain": [
       "      Area                                     characteristic  \\\n",
       "0  Kowloon         Quiet & Boutique Living, Unrivalled Luxury   \n",
       "1  Kowloon                Invite Offers, For Sale & For Lease   \n",
       "2  Kowloon                       Spacious Rooms, High Privacy   \n",
       "3  Kowloon  Good Layout & Efficient, Unrepeatable Opportunity   \n",
       "4  Kowloon               Spacious Rooms, Tranquil Garden View   \n",
       "\n",
       "                                          floor type  hkd millions  \\\n",
       "0                           High Floor Zone (Flat 3)         26.50   \n",
       "1  High Floor Zone (Flat -)                      ...          7.50   \n",
       "2  Low Floor Zone (Flat E)                       ...         18.00   \n",
       "3  Low Floor Zone (Flat -)                       ...         13.98   \n",
       "4  Low Floor Zone (Flat AB)                      ...         25.00   \n",
       "\n",
       "                                            rent hkd  \\\n",
       "0                                                  0   \n",
       "1  Rent $17k\\n                                   ...   \n",
       "2  Rent $40k\\n                                   ...   \n",
       "3                                                  0   \n",
       "4                                                  0   \n",
       "\n",
       "                                             address  \\\n",
       "0  Kowloon Tong/Beacon Hill Flat 3 Block A Penins...   \n",
       "1  Cheung Sha Wan West Flat - Tower 1 Phase 2 The...   \n",
       "2  Kowloon Station Flat E Tower 2 Phase 1 The Wat...   \n",
       "3  Cheung Sha Wan West Flat - Tower 2 One West Ko...   \n",
       "4  Whampoa/Laguna Verde Flat AB Tower 10 Phase 2 ...   \n",
       "\n",
       "                last updated  pay per month (k)  loan %  1st payment (M)  \\\n",
       "0  Last Updated : 21-02-2018               70.2    50.0            13.25   \n",
       "1  Last Updated : 23-02-2018               23.8    60.0             3.00   \n",
       "2  Last Updated : 13-03-2018               47.6    50.0             9.00   \n",
       "3  Last Updated : 22-02-2018               37.0    50.0             6.99   \n",
       "4  Last Updated : 13-03-2018               66.2    50.0            12.50   \n",
       "\n",
       "   area sq ft  price per ft  \n",
       "0      1137.0       23300.0  \n",
       "1       485.0       15400.0  \n",
       "2       794.0       22600.0  \n",
       "3       971.0       14300.0  \n",
       "4      1502.0       16600.0  "
      ]
     },
     "execution_count": 91,
     "metadata": {},
     "output_type": "execute_result"
    }
   ],
   "source": [
    "rc.head()"
   ]
  },
  {
   "cell_type": "code",
   "execution_count": 97,
   "metadata": {},
   "outputs": [
    {
     "data": {
      "text/plain": [
       "Kowloon                 3578\n",
       "New Territories East    3292\n",
       "New Territories West    2995\n",
       "Name: Area, dtype: int64"
      ]
     },
     "execution_count": 97,
     "metadata": {},
     "output_type": "execute_result"
    }
   ],
   "source": [
    "rc['Area'].value_counts()"
   ]
  },
  {
   "cell_type": "code",
   "execution_count": 92,
   "metadata": {},
   "outputs": [
    {
     "data": {
      "text/plain": [
       "Area                  object\n",
       "characteristic        object\n",
       "floor type            object\n",
       "hkd millions         float64\n",
       "rent hkd              object\n",
       "address               object\n",
       "last updated          object\n",
       "pay per month (k)    float64\n",
       "loan %               float64\n",
       "1st payment (M)      float64\n",
       "area sq ft           float64\n",
       "price per ft         float64\n",
       "dtype: object"
      ]
     },
     "execution_count": 92,
     "metadata": {},
     "output_type": "execute_result"
    }
   ],
   "source": [
    "rc.dtypes"
   ]
  },
  {
   "cell_type": "code",
   "execution_count": 95,
   "metadata": {},
   "outputs": [
    {
     "data": {
      "text/plain": [
       "<matplotlib.axes._subplots.AxesSubplot at 0x1a1a4387b8>"
      ]
     },
     "execution_count": 95,
     "metadata": {},
     "output_type": "execute_result"
    },
    {
     "data": {
      "image/png": "[encoded data removed]",
      "text/plain": [
       "<matplotlib.figure.Figure at 0x1a100272e8>"
      ]
     },
     "metadata": {},
     "output_type": "display_data"
    }
   ],
   "source": [
    "# box plot of 'hkd in millions by Area'\n",
    "sns.boxplot(y='Area', x='hkd millions', data = rc)"
   ]
  },
  {
   "cell_type": "code",
   "execution_count": 96,
   "metadata": {},
   "outputs": [
    {
     "data": {
      "text/plain": [
       "<matplotlib.axes._subplots.AxesSubplot at 0x1a1f88c550>"
      ]
     },
     "execution_count": 96,
     "metadata": {},
     "output_type": "execute_result"
    },
    {
     "data": {
      "image/png": "[encoded data removed]",
      "text/plain": [
       "<matplotlib.figure.Figure at 0x1a1a438c50>"
      ]
     },
     "metadata": {},
     "output_type": "display_data"
    }
   ],
   "source": [
    "# box plot of 'price per ft by Area'\n",
    "sns.boxplot(x='price per ft', y='Area', data=rc)"
   ]
  },
  {
   "cell_type": "code",
   "execution_count": 101,
   "metadata": {},
   "outputs": [
    {
     "data": {
      "text/plain": [
       "<matplotlib.axes._subplots.AxesSubplot at 0x1a2342d908>"
      ]
     },
     "execution_count": 101,
     "metadata": {},
     "output_type": "execute_result"
    },
    {
     "data": {
      "image/png": "[encoded data removed]",
      "text/plain": [
       "<matplotlib.figure.Figure at 0x1a1dfbf2b0>"
      ]
     },
     "metadata": {},
     "output_type": "display_data"
    }
   ],
   "source": [
    "sns.regplot(y='price per ft', x='hkd millions', data=rc)"
   ]
  },
  {
   "cell_type": "code",
   "execution_count": 104,
   "metadata": {},
   "outputs": [
    {
     "data": {
      "text/plain": [
       "<matplotlib.axes._subplots.AxesSubplot at 0x1a23d534e0>"
      ]
     },
     "execution_count": 104,
     "metadata": {},
     "output_type": "execute_result"
    },
    {
     "data": {
      "image/png": "[encoded data removed]",
      "text/plain": [
       "<matplotlib.figure.Figure at 0x1a23d79a20>"
      ]
     },
     "metadata": {},
     "output_type": "display_data"
    }
   ],
   "source": [
    "sns.regplot(y='area sq ft', x='hkd millions', data=rc)"
   ]
  },
  {
   "cell_type": "code",
   "execution_count": 111,
   "metadata": {},
   "outputs": [
    {
     "data": {
      "text/plain": [
       "<matplotlib.axes._subplots.AxesSubplot at 0x1a262caac8>"
      ]
     },
     "execution_count": 111,
     "metadata": {},
     "output_type": "execute_result"
    },
    {
     "data": {
      "image/png": "[encoded data removed]",
      "text/plain": [
       "<matplotlib.figure.Figure at 0x1a262e1748>"
      ]
     },
     "metadata": {},
     "output_type": "display_data"
    }
   ],
   "source": [
    "sns.violinplot(y='Area', x='pay per month (k)', data =rc)"
   ]
  },
  {
   "cell_type": "markdown",
   "metadata": {},
   "source": [
    "** 3.) ** *Bonus* - In collumns that should be numerical use regular expressions to get the numbers and convert the columns from strings to numerical."
   ]
  },
  {
   "cell_type": "code",
   "execution_count": 280,
   "metadata": {},
   "outputs": [],
   "source": [
    "import re "
   ]
  },
  {
   "cell_type": "code",
   "execution_count": 281,
   "metadata": {},
   "outputs": [],
   "source": [
    "# %load solutions/ricacorp_3.py\n"
   ]
  },
  {
   "cell_type": "code",
   "execution_count": 288,
   "metadata": {},
   "outputs": [
    {
     "data": {
      "text/html": [
       "<div>\n",
       "<style scoped>\n",
       "    .dataframe tbody tr th:only-of-type {\n",
       "        vertical-align: middle;\n",
       "    }\n",
       "\n",
       "    .dataframe tbody tr th {\n",
       "        vertical-align: top;\n",
       "    }\n",
       "\n",
       "    .dataframe thead th {\n",
       "        text-align: right;\n",
       "    }\n",
       "</style>\n",
       "<table border=\"1\" class=\"dataframe\">\n",
       "  <thead>\n",
       "    <tr style=\"text-align: right;\">\n",
       "      <th></th>\n",
       "      <th>location</th>\n",
       "      <th>characteristic</th>\n",
       "      <th>floor_type</th>\n",
       "      <th>hkd_millions</th>\n",
       "      <th>rent_hkd</th>\n",
       "      <th>area_sqft</th>\n",
       "      <th>address</th>\n",
       "      <th>last_updated</th>\n",
       "      <th>pay_per_month_K</th>\n",
       "      <th>loan_percent</th>\n",
       "      <th>first_payment_M</th>\n",
       "    </tr>\n",
       "  </thead>\n",
       "  <tbody>\n",
       "    <tr>\n",
       "      <th>0</th>\n",
       "      <td>Kowloon</td>\n",
       "      <td>Quiet &amp; Boutique Living, Unrivalled Luxury</td>\n",
       "      <td>High Floor Zone (Flat 3)</td>\n",
       "      <td>26.50</td>\n",
       "      <td>NaN</td>\n",
       "      <td>1137.0</td>\n",
       "      <td>Kowloon Tong/Beacon Hill Flat 3 Block A Penins...</td>\n",
       "      <td>Last Updated : 21-02-2018</td>\n",
       "      <td>70.2</td>\n",
       "      <td>50.0</td>\n",
       "      <td>113.25</td>\n",
       "    </tr>\n",
       "    <tr>\n",
       "      <th>1</th>\n",
       "      <td>Kowloon</td>\n",
       "      <td>Invite Offers, For Sale &amp; For Lease</td>\n",
       "      <td>High Floor Zone (Flat -)                      ...</td>\n",
       "      <td>7.50</td>\n",
       "      <td>17.0</td>\n",
       "      <td>485.0</td>\n",
       "      <td>Cheung Sha Wan West Flat - Tower 1 Phase 2 The...</td>\n",
       "      <td>Last Updated : 23-02-2018</td>\n",
       "      <td>23.8</td>\n",
       "      <td>60.0</td>\n",
       "      <td>13.00</td>\n",
       "    </tr>\n",
       "    <tr>\n",
       "      <th>2</th>\n",
       "      <td>Kowloon</td>\n",
       "      <td>Spacious Rooms, High Privacy</td>\n",
       "      <td>Low Floor Zone (Flat E)                       ...</td>\n",
       "      <td>18.00</td>\n",
       "      <td>40.0</td>\n",
       "      <td>794.0</td>\n",
       "      <td>Kowloon Station Flat E Tower 2 Phase 1 The Wat...</td>\n",
       "      <td>Last Updated : 13-03-2018</td>\n",
       "      <td>47.6</td>\n",
       "      <td>50.0</td>\n",
       "      <td>19.00</td>\n",
       "    </tr>\n",
       "    <tr>\n",
       "      <th>3</th>\n",
       "      <td>Kowloon</td>\n",
       "      <td>Good Layout &amp; Efficient, Unrepeatable Opportunity</td>\n",
       "      <td>Low Floor Zone (Flat -)                       ...</td>\n",
       "      <td>13.98</td>\n",
       "      <td>NaN</td>\n",
       "      <td>971.0</td>\n",
       "      <td>Cheung Sha Wan West Flat - Tower 2 One West Ko...</td>\n",
       "      <td>Last Updated : 22-02-2018</td>\n",
       "      <td>37.0</td>\n",
       "      <td>50.0</td>\n",
       "      <td>16.99</td>\n",
       "    </tr>\n",
       "    <tr>\n",
       "      <th>4</th>\n",
       "      <td>Kowloon</td>\n",
       "      <td>Spacious Rooms, Tranquil Garden View</td>\n",
       "      <td>Low Floor Zone (Flat AB)                      ...</td>\n",
       "      <td>25.00</td>\n",
       "      <td>NaN</td>\n",
       "      <td>1502.0</td>\n",
       "      <td>Whampoa/Laguna Verde Flat AB Tower 10 Phase 2 ...</td>\n",
       "      <td>Last Updated : 13-03-2018</td>\n",
       "      <td>66.2</td>\n",
       "      <td>50.0</td>\n",
       "      <td>112.50</td>\n",
       "    </tr>\n",
       "  </tbody>\n",
       "</table>\n",
       "</div>"
      ],
      "text/plain": [
       "  location                                     characteristic  \\\n",
       "0  Kowloon         Quiet & Boutique Living, Unrivalled Luxury   \n",
       "1  Kowloon                Invite Offers, For Sale & For Lease   \n",
       "2  Kowloon                       Spacious Rooms, High Privacy   \n",
       "3  Kowloon  Good Layout & Efficient, Unrepeatable Opportunity   \n",
       "4  Kowloon               Spacious Rooms, Tranquil Garden View   \n",
       "\n",
       "                                          floor_type  hkd_millions  rent_hkd  \\\n",
       "0                           High Floor Zone (Flat 3)         26.50       NaN   \n",
       "1  High Floor Zone (Flat -)                      ...          7.50      17.0   \n",
       "2  Low Floor Zone (Flat E)                       ...         18.00      40.0   \n",
       "3  Low Floor Zone (Flat -)                       ...         13.98       NaN   \n",
       "4  Low Floor Zone (Flat AB)                      ...         25.00       NaN   \n",
       "\n",
       "   area_sqft                                            address  \\\n",
       "0     1137.0  Kowloon Tong/Beacon Hill Flat 3 Block A Penins...   \n",
       "1      485.0  Cheung Sha Wan West Flat - Tower 1 Phase 2 The...   \n",
       "2      794.0  Kowloon Station Flat E Tower 2 Phase 1 The Wat...   \n",
       "3      971.0  Cheung Sha Wan West Flat - Tower 2 One West Ko...   \n",
       "4     1502.0  Whampoa/Laguna Verde Flat AB Tower 10 Phase 2 ...   \n",
       "\n",
       "                last_updated  pay_per_month_K  loan_percent  first_payment_M  \n",
       "0  Last Updated : 21-02-2018             70.2          50.0           113.25  \n",
       "1  Last Updated : 23-02-2018             23.8          60.0            13.00  \n",
       "2  Last Updated : 13-03-2018             47.6          50.0            19.00  \n",
       "3  Last Updated : 22-02-2018             37.0          50.0            16.99  \n",
       "4  Last Updated : 13-03-2018             66.2          50.0           112.50  "
      ]
     },
     "execution_count": 288,
     "metadata": {},
     "output_type": "execute_result"
    }
   ],
   "source": [
    "ricacorp.head()"
   ]
  },
  {
   "cell_type": "code",
   "execution_count": null,
   "metadata": {},
   "outputs": [],
   "source": [
    "#"
   ]
  },
  {
   "cell_type": "code",
   "execution_count": null,
   "metadata": {},
   "outputs": [],
   "source": [
    "# openrice['address'].apply(lambda s : s[:-1])\n",
    "# remove commas\n",
    "# make index as list to sort price_range mean median for likes,dislkies, bookmarks in range use .iloc"
   ]
  },
  {
   "cell_type": "code",
   "execution_count": null,
   "metadata": {},
   "outputs": [],
   "source": [
    "def abc():\n",
    "    n = re.search(\"\",s)\n",
    "    if n:\n",
    "        return n.group()\n",
    "    return np.nan"
   ]
  },
  {
   "cell_type": "code",
   "execution_count": null,
   "metadata": {},
   "outputs": [],
   "source": [
    "def abc():\n",
    "    n = re.search(r\"\\$(.+)([MK])\",s)\n",
    "    if n:\n",
    "        if n.group(2) == 'M':\n",
    "            return float(n.group(1)) * 1000\n",
    "        else:\n",
    "            return float(n.group(1))\n",
    "        return n.group()\n",
    "    return np.nan"
   ]
  }
 ],
 "metadata": {
  "kernelspec": {
   "display_name": "Python 3",
   "language": "python",
   "name": "python3"
  },
  "language_info": {
   "codemirror_mode": {
    "name": "ipython",
    "version": 3
   },
   "file_extension": ".py",
   "mimetype": "text/x-python",
   "name": "python",
   "nbconvert_exporter": "python",
   "pygments_lexer": "ipython3",
   "version": "3.6.4"
  }
 },
 "nbformat": 4,
 "nbformat_minor": 2
}
